{
 "cells": [
  {
   "cell_type": "code",
   "execution_count": 4,
   "id": "bc9cd47c",
   "metadata": {},
   "outputs": [],
   "source": [
    "import numpy as np\n",
    "import pandas as pd\n",
    "import matplotlib.pyplot as plt\n",
    "import seaborn as sns"
   ]
  },
  {
   "cell_type": "markdown",
   "id": "79d2968e",
   "metadata": {},
   "source": [
    "# Loading dataset "
   ]
  },
  {
   "cell_type": "code",
   "execution_count": 5,
   "id": "f0a57f95",
   "metadata": {},
   "outputs": [],
   "source": [
    "df = pd.read_excel('HR Data.xlsx')"
   ]
  },
  {
   "cell_type": "code",
   "execution_count": 6,
   "id": "cf98af7c",
   "metadata": {},
   "outputs": [
    {
     "data": {
      "text/html": [
       "<div>\n",
       "<style scoped>\n",
       "    .dataframe tbody tr th:only-of-type {\n",
       "        vertical-align: middle;\n",
       "    }\n",
       "\n",
       "    .dataframe tbody tr th {\n",
       "        vertical-align: top;\n",
       "    }\n",
       "\n",
       "    .dataframe thead th {\n",
       "        text-align: right;\n",
       "    }\n",
       "</style>\n",
       "<table border=\"1\" class=\"dataframe\">\n",
       "  <thead>\n",
       "    <tr style=\"text-align: right;\">\n",
       "      <th></th>\n",
       "      <th>Attrition</th>\n",
       "      <th>Business Travel</th>\n",
       "      <th>CF_age band</th>\n",
       "      <th>CF_attrition label</th>\n",
       "      <th>Department</th>\n",
       "      <th>Education Field</th>\n",
       "      <th>emp no</th>\n",
       "      <th>Employee Number</th>\n",
       "      <th>Gender</th>\n",
       "      <th>Job Role</th>\n",
       "      <th>...</th>\n",
       "      <th>Performance Rating</th>\n",
       "      <th>Relationship Satisfaction</th>\n",
       "      <th>Standard Hours</th>\n",
       "      <th>Stock Option Level</th>\n",
       "      <th>Total Working Years</th>\n",
       "      <th>Work Life Balance</th>\n",
       "      <th>Years At Company</th>\n",
       "      <th>Years In Current Role</th>\n",
       "      <th>Years Since Last Promotion</th>\n",
       "      <th>Years With Curr Manager</th>\n",
       "    </tr>\n",
       "  </thead>\n",
       "  <tbody>\n",
       "    <tr>\n",
       "      <th>0</th>\n",
       "      <td>Yes</td>\n",
       "      <td>Travel_Rarely</td>\n",
       "      <td>35 - 44</td>\n",
       "      <td>Ex-Employees</td>\n",
       "      <td>Sales</td>\n",
       "      <td>Life Sciences</td>\n",
       "      <td>STAFF-1</td>\n",
       "      <td>1</td>\n",
       "      <td>Female</td>\n",
       "      <td>Sales Executive</td>\n",
       "      <td>...</td>\n",
       "      <td>3</td>\n",
       "      <td>1</td>\n",
       "      <td>80</td>\n",
       "      <td>0</td>\n",
       "      <td>8</td>\n",
       "      <td>1</td>\n",
       "      <td>6</td>\n",
       "      <td>4</td>\n",
       "      <td>0</td>\n",
       "      <td>5</td>\n",
       "    </tr>\n",
       "    <tr>\n",
       "      <th>1</th>\n",
       "      <td>No</td>\n",
       "      <td>Travel_Frequently</td>\n",
       "      <td>45 - 54</td>\n",
       "      <td>Current Employees</td>\n",
       "      <td>R&amp;D</td>\n",
       "      <td>Life Sciences</td>\n",
       "      <td>STAFF-2</td>\n",
       "      <td>2</td>\n",
       "      <td>Male</td>\n",
       "      <td>Research Scientist</td>\n",
       "      <td>...</td>\n",
       "      <td>4</td>\n",
       "      <td>4</td>\n",
       "      <td>80</td>\n",
       "      <td>1</td>\n",
       "      <td>10</td>\n",
       "      <td>3</td>\n",
       "      <td>10</td>\n",
       "      <td>7</td>\n",
       "      <td>1</td>\n",
       "      <td>7</td>\n",
       "    </tr>\n",
       "    <tr>\n",
       "      <th>2</th>\n",
       "      <td>Yes</td>\n",
       "      <td>Travel_Rarely</td>\n",
       "      <td>35 - 44</td>\n",
       "      <td>Ex-Employees</td>\n",
       "      <td>R&amp;D</td>\n",
       "      <td>Other</td>\n",
       "      <td>STAFF-4</td>\n",
       "      <td>4</td>\n",
       "      <td>Male</td>\n",
       "      <td>Laboratory Technician</td>\n",
       "      <td>...</td>\n",
       "      <td>3</td>\n",
       "      <td>2</td>\n",
       "      <td>80</td>\n",
       "      <td>0</td>\n",
       "      <td>7</td>\n",
       "      <td>3</td>\n",
       "      <td>0</td>\n",
       "      <td>0</td>\n",
       "      <td>0</td>\n",
       "      <td>0</td>\n",
       "    </tr>\n",
       "    <tr>\n",
       "      <th>3</th>\n",
       "      <td>No</td>\n",
       "      <td>Travel_Frequently</td>\n",
       "      <td>25 - 34</td>\n",
       "      <td>Current Employees</td>\n",
       "      <td>R&amp;D</td>\n",
       "      <td>Life Sciences</td>\n",
       "      <td>STAFF-5</td>\n",
       "      <td>5</td>\n",
       "      <td>Female</td>\n",
       "      <td>Research Scientist</td>\n",
       "      <td>...</td>\n",
       "      <td>3</td>\n",
       "      <td>3</td>\n",
       "      <td>80</td>\n",
       "      <td>0</td>\n",
       "      <td>8</td>\n",
       "      <td>3</td>\n",
       "      <td>8</td>\n",
       "      <td>7</td>\n",
       "      <td>3</td>\n",
       "      <td>0</td>\n",
       "    </tr>\n",
       "    <tr>\n",
       "      <th>4</th>\n",
       "      <td>No</td>\n",
       "      <td>Travel_Rarely</td>\n",
       "      <td>25 - 34</td>\n",
       "      <td>Current Employees</td>\n",
       "      <td>R&amp;D</td>\n",
       "      <td>Medical</td>\n",
       "      <td>STAFF-7</td>\n",
       "      <td>7</td>\n",
       "      <td>Male</td>\n",
       "      <td>Laboratory Technician</td>\n",
       "      <td>...</td>\n",
       "      <td>3</td>\n",
       "      <td>4</td>\n",
       "      <td>80</td>\n",
       "      <td>1</td>\n",
       "      <td>6</td>\n",
       "      <td>3</td>\n",
       "      <td>2</td>\n",
       "      <td>2</td>\n",
       "      <td>2</td>\n",
       "      <td>2</td>\n",
       "    </tr>\n",
       "  </tbody>\n",
       "</table>\n",
       "<p>5 rows × 41 columns</p>\n",
       "</div>"
      ],
      "text/plain": [
       "  Attrition    Business Travel CF_age band CF_attrition label Department  \\\n",
       "0       Yes      Travel_Rarely     35 - 44       Ex-Employees      Sales   \n",
       "1        No  Travel_Frequently     45 - 54  Current Employees        R&D   \n",
       "2       Yes      Travel_Rarely     35 - 44       Ex-Employees        R&D   \n",
       "3        No  Travel_Frequently     25 - 34  Current Employees        R&D   \n",
       "4        No      Travel_Rarely     25 - 34  Current Employees        R&D   \n",
       "\n",
       "  Education Field   emp no  Employee Number  Gender               Job Role  \\\n",
       "0   Life Sciences  STAFF-1                1  Female        Sales Executive   \n",
       "1   Life Sciences  STAFF-2                2    Male     Research Scientist   \n",
       "2           Other  STAFF-4                4    Male  Laboratory Technician   \n",
       "3   Life Sciences  STAFF-5                5  Female     Research Scientist   \n",
       "4         Medical  STAFF-7                7    Male  Laboratory Technician   \n",
       "\n",
       "   ... Performance Rating Relationship Satisfaction Standard Hours  \\\n",
       "0  ...                  3                         1             80   \n",
       "1  ...                  4                         4             80   \n",
       "2  ...                  3                         2             80   \n",
       "3  ...                  3                         3             80   \n",
       "4  ...                  3                         4             80   \n",
       "\n",
       "   Stock Option Level  Total Working Years  Work Life Balance  \\\n",
       "0                   0                    8                  1   \n",
       "1                   1                   10                  3   \n",
       "2                   0                    7                  3   \n",
       "3                   0                    8                  3   \n",
       "4                   1                    6                  3   \n",
       "\n",
       "   Years At Company  Years In Current Role  Years Since Last Promotion  \\\n",
       "0                 6                      4                           0   \n",
       "1                10                      7                           1   \n",
       "2                 0                      0                           0   \n",
       "3                 8                      7                           3   \n",
       "4                 2                      2                           2   \n",
       "\n",
       "   Years With Curr Manager  \n",
       "0                        5  \n",
       "1                        7  \n",
       "2                        0  \n",
       "3                        0  \n",
       "4                        2  \n",
       "\n",
       "[5 rows x 41 columns]"
      ]
     },
     "execution_count": 6,
     "metadata": {},
     "output_type": "execute_result"
    }
   ],
   "source": [
    "df.head()"
   ]
  },
  {
   "cell_type": "markdown",
   "id": "31add3f4",
   "metadata": {},
   "source": [
    "# Basic insights and understading of given dataset"
   ]
  },
  {
   "cell_type": "code",
   "execution_count": 14,
   "id": "85183b38",
   "metadata": {
    "collapsed": true
   },
   "outputs": [
    {
     "data": {
      "text/plain": [
       "Attrition                     0\n",
       "Business Travel               0\n",
       "CF_age band                   0\n",
       "CF_attrition label            0\n",
       "Department                    0\n",
       "Education Field               0\n",
       "emp no                        0\n",
       "Employee Number               0\n",
       "Gender                        0\n",
       "Job Role                      0\n",
       "Marital Status                0\n",
       "Over Time                     0\n",
       "Over18                        0\n",
       "Training Times Last Year      0\n",
       "-2                            0\n",
       "0                             0\n",
       "Age                           0\n",
       "CF_current Employee           0\n",
       "Daily Rate                    0\n",
       "Distance From Home            0\n",
       "Education                     0\n",
       "Employee Count                0\n",
       "Environment Satisfaction      0\n",
       "Hourly Rate                   0\n",
       "Job Involvement               0\n",
       "Job Level                     0\n",
       "Job Satisfaction              0\n",
       "Monthly Income                0\n",
       "Monthly Rate                  0\n",
       "Num Companies Worked          0\n",
       "Percent Salary Hike           0\n",
       "Performance Rating            0\n",
       "Relationship Satisfaction     0\n",
       "Standard Hours                0\n",
       "Stock Option Level            0\n",
       "Total Working Years           0\n",
       "Work Life Balance             0\n",
       "Years At Company              0\n",
       "Years In Current Role         0\n",
       "Years Since Last Promotion    0\n",
       "Years With Curr Manager       0\n",
       "dtype: int64"
      ]
     },
     "execution_count": 14,
     "metadata": {},
     "output_type": "execute_result"
    }
   ],
   "source": [
    "df.isnull().sum()"
   ]
  },
  {
   "cell_type": "markdown",
   "id": "8bf05525",
   "metadata": {},
   "source": [
    "### As per output, dataset do not have any null value"
   ]
  },
  {
   "cell_type": "code",
   "execution_count": 15,
   "id": "ea61a23d",
   "metadata": {
    "collapsed": true
   },
   "outputs": [
    {
     "data": {
      "text/plain": [
       "Attrition                        2\n",
       "Business Travel                  3\n",
       "CF_age band                      5\n",
       "CF_attrition label               2\n",
       "Department                       3\n",
       "Education Field                  6\n",
       "emp no                        1470\n",
       "Employee Number               1470\n",
       "Gender                           2\n",
       "Job Role                         9\n",
       "Marital Status                   3\n",
       "Over Time                        2\n",
       "Over18                           1\n",
       "Training Times Last Year         7\n",
       "-2                               1\n",
       "0                                1\n",
       "Age                             43\n",
       "CF_current Employee              2\n",
       "Daily Rate                     886\n",
       "Distance From Home              29\n",
       "Education                        5\n",
       "Employee Count                   1\n",
       "Environment Satisfaction         4\n",
       "Hourly Rate                     71\n",
       "Job Involvement                  4\n",
       "Job Level                        5\n",
       "Job Satisfaction                 4\n",
       "Monthly Income                1349\n",
       "Monthly Rate                  1427\n",
       "Num Companies Worked            10\n",
       "Percent Salary Hike             15\n",
       "Performance Rating               2\n",
       "Relationship Satisfaction        4\n",
       "Standard Hours                   1\n",
       "Stock Option Level               4\n",
       "Total Working Years             40\n",
       "Work Life Balance                4\n",
       "Years At Company                37\n",
       "Years In Current Role           19\n",
       "Years Since Last Promotion      16\n",
       "Years With Curr Manager         18\n",
       "dtype: int64"
      ]
     },
     "execution_count": 15,
     "metadata": {},
     "output_type": "execute_result"
    }
   ],
   "source": [
    "df.nunique()"
   ]
  },
  {
   "cell_type": "code",
   "execution_count": 29,
   "id": "cfb11e42",
   "metadata": {},
   "outputs": [
    {
     "data": {
      "text/plain": [
       "(1470, 41)"
      ]
     },
     "execution_count": 29,
     "metadata": {},
     "output_type": "execute_result"
    }
   ],
   "source": [
    "df.shape"
   ]
  },
  {
   "cell_type": "code",
   "execution_count": 36,
   "id": "94be76a6",
   "metadata": {
    "collapsed": true
   },
   "outputs": [
    {
     "data": {
      "text/plain": [
       "Attrition                     object\n",
       "Business Travel               object\n",
       "CF_age band                   object\n",
       "CF_attrition label            object\n",
       "Department                    object\n",
       "Education Field               object\n",
       "emp no                        object\n",
       "Employee Number                int64\n",
       "Gender                        object\n",
       "Job Role                      object\n",
       "Marital Status                object\n",
       "Over Time                     object\n",
       "Over18                        object\n",
       "Training Times Last Year       int64\n",
       "-2                             int64\n",
       "0                              int64\n",
       "Age                            int64\n",
       "CF_current Employee            int64\n",
       "Daily Rate                     int64\n",
       "Distance From Home             int64\n",
       "Education                     object\n",
       "Employee Count                 int64\n",
       "Environment Satisfaction       int64\n",
       "Hourly Rate                    int64\n",
       "Job Involvement                int64\n",
       "Job Level                      int64\n",
       "Job Satisfaction               int64\n",
       "Monthly Income                 int64\n",
       "Monthly Rate                   int64\n",
       "Num Companies Worked           int64\n",
       "Percent Salary Hike            int64\n",
       "Performance Rating             int64\n",
       "Relationship Satisfaction      int64\n",
       "Standard Hours                 int64\n",
       "Stock Option Level             int64\n",
       "Total Working Years            int64\n",
       "Work Life Balance              int64\n",
       "Years At Company               int64\n",
       "Years In Current Role          int64\n",
       "Years Since Last Promotion     int64\n",
       "Years With Curr Manager        int64\n",
       "dtype: object"
      ]
     },
     "execution_count": 36,
     "metadata": {},
     "output_type": "execute_result"
    }
   ],
   "source": [
    "df.dtypes"
   ]
  },
  {
   "cell_type": "markdown",
   "id": "c4e3fb62",
   "metadata": {},
   "source": [
    "# <font color='Brown'>Objective :  Create an Employee Attrition Analysis Report to gain insights into factors contributing to employee attrition within a company. \n",
    "</font>"
   ]
  },
  {
   "cell_type": "markdown",
   "id": "79db119a",
   "metadata": {},
   "source": [
    "# 1. Attrition Analysis:"
   ]
  },
  {
   "cell_type": "markdown",
   "id": "64425eb4",
   "metadata": {},
   "source": [
    "### <font color=''> 1.1 What is the overall attrition rate in the company? </font>"
   ]
  },
  {
   "cell_type": "code",
   "execution_count": 74,
   "id": "5e36d90d",
   "metadata": {},
   "outputs": [],
   "source": [
    "yes = df['Attrition'] =='Yes'\n",
    "attrition_happend = df[yes]\n",
    "total_attrition = attrition_happend['Attrition'].count()\n",
    "total_emp = df['Attrition'].count()"
   ]
  },
  {
   "cell_type": "code",
   "execution_count": 70,
   "id": "3a889c2a",
   "metadata": {},
   "outputs": [
    {
     "data": {
      "text/plain": [
       "16.122448979591837"
      ]
     },
     "execution_count": 70,
     "metadata": {},
     "output_type": "execute_result"
    }
   ],
   "source": [
    "total_rate_attrition = (total_attrition/total_emp)*100\n",
    "total_rate_attrition`"
   ]
  },
  {
   "cell_type": "code",
   "execution_count": null,
   "id": "aa37b4c3",
   "metadata": {},
   "outputs": [],
   "source": []
  },
  {
   "cell_type": "markdown",
   "id": "1b40c0f4",
   "metadata": {},
   "source": [
    "### <font color='darkblue'>237 employees out of 1470 have quite their jobs which is around 16.12% of total employees. </font>"
   ]
  },
  {
   "cell_type": "markdown",
   "id": "81fbbc8e",
   "metadata": {},
   "source": [
    "### 1.2 is there a significant difference in attrition rates between different age bands or departments?\n"
   ]
  },
  {
   "cell_type": "code",
   "execution_count": 86,
   "id": "ee238f6f",
   "metadata": {},
   "outputs": [
    {
     "data": {
      "text/plain": [
       "array(['35 - 44', '45 - 54', '25 - 34', 'Over 55', 'Under 25'],\n",
       "      dtype=object)"
      ]
     },
     "execution_count": 86,
     "metadata": {},
     "output_type": "execute_result"
    }
   ],
   "source": [
    "df['CF_age band'].unique()"
   ]
  },
  {
   "cell_type": "code",
   "execution_count": 9,
   "id": "70e02f98",
   "metadata": {},
   "outputs": [],
   "source": [
    "attrition_happend_filt = df['Attrition'] == 'Yes'\n",
    "df_attrition_happend = df[attrition_happend_filt]"
   ]
  },
  {
   "cell_type": "code",
   "execution_count": 94,
   "id": "59ecdf12",
   "metadata": {},
   "outputs": [
    {
     "data": {
      "text/plain": [
       "25 - 34     112\n",
       "35 - 44      51\n",
       "Under 25     38\n",
       "45 - 54      25\n",
       "Over 55      11\n",
       "Name: CF_age band, dtype: int64"
      ]
     },
     "execution_count": 94,
     "metadata": {},
     "output_type": "execute_result"
    }
   ],
   "source": [
    "df_attrition_happend['CF_age band'].value_counts()"
   ]
  },
  {
   "cell_type": "code",
   "execution_count": 95,
   "id": "9832399e",
   "metadata": {},
   "outputs": [
    {
     "data": {
      "text/plain": [
       "<AxesSubplot:>"
      ]
     },
     "execution_count": 95,
     "metadata": {},
     "output_type": "execute_result"
    },
    {
     "data": {
      "image/png": "[encoded data removed]",
      "text/plain": [
       "<Figure size 640x480 with 1 Axes>"
      ]
     },
     "metadata": {},
     "output_type": "display_data"
    }
   ],
   "source": [
    "df_attrition_happend['CF_age band'].value_counts().plot(kind='bar')"
   ]
  },
  {
   "cell_type": "markdown",
   "id": "e52362a5",
   "metadata": {},
   "source": [
    "### <font color='blue'> </font>"
   ]
  },
  {
   "cell_type": "markdown",
   "id": "e3c10430",
   "metadata": {},
   "source": [
    "### <font color='darkblue'>This bar plot reveals higher attrition rate in the 25-34 years age group and most of people are aged between 25 years to 44 years who are qutting their jobs and there is least attrition rate for above 55 years emploees followed by 45-54 years age band employees.</font>"
   ]
  },
  {
   "cell_type": "markdown",
   "id": "0fca372c",
   "metadata": {},
   "source": [
    "### 1.3 Does the presence of overtime have any correlation with attrition?"
   ]
  },
  {
   "cell_type": "code",
   "execution_count": 122,
   "id": "a11f714b",
   "metadata": {},
   "outputs": [
    {
     "data": {
      "text/plain": [
       "Yes    127\n",
       "No     110\n",
       "Name: Over Time, dtype: int64"
      ]
     },
     "execution_count": 122,
     "metadata": {},
     "output_type": "execute_result"
    }
   ],
   "source": [
    "df_attrition_happend['Over Time'].value_counts()"
   ]
  },
  {
   "cell_type": "code",
   "execution_count": null,
   "id": "34053317",
   "metadata": {},
   "outputs": [],
   "source": [
    "df['Attrition'] = df['Attrition'].str.replace('Yes','1')\n",
    "df['Attrition'] = df['Attrition'].str.replace('No','0')\n",
    "\n",
    "df['Attrition'] = df['Attrition'].astype('int32')\n"
   ]
  },
  {
   "cell_type": "code",
   "execution_count": 116,
   "id": "31e4b0dc",
   "metadata": {},
   "outputs": [],
   "source": [
    "df['Over Time'] = df['Over Time'].str.replace('Yes','1')\n",
    "df['Over Time'] = df['Over Time'].str.replace('No','0')\n",
    "\n",
    "df['Over Time'] = df['Over Time'].astype('int32')"
   ]
  },
  {
   "cell_type": "code",
   "execution_count": 129,
   "id": "f7c4d45c",
   "metadata": {},
   "outputs": [
    {
     "data": {
      "text/plain": [
       "0.24611799424580422"
      ]
     },
     "execution_count": 129,
     "metadata": {},
     "output_type": "execute_result"
    }
   ],
   "source": [
    "correlation = df['Attrition'].corr(df['Over Time'])\n",
    "correlation"
   ]
  },
  {
   "cell_type": "markdown",
   "id": "e24462d6",
   "metadata": {},
   "source": [
    "### <font color='darkblue'>In general case, a correlation coefficient of 0.24 suggests a positive relationship between attrition rate and over time cases, but it's not particularly strong. The closer the correlation coefficient is to 1 or -1, the stronger the correlation, while values closer to 0 indicate a weaker or no correlation. </font>\n",
    "\n",
    "### <font color='blue'>statistically we do not have any conclusive evidence of employees are quitting their jobs because of over time issues but below plot also indicates that 54.27% employees who have quit their jobs were assigned overtime duty as well.</font>"
   ]
  },
  {
   "cell_type": "code",
   "execution_count": 147,
   "id": "f4baa3f2",
   "metadata": {},
   "outputs": [
    {
     "name": "stdout",
     "output_type": "stream",
     "text": [
      "1    127\n",
      "0    110\n",
      "Name: Over Time, dtype: int64 \n",
      "\n",
      "54.27350427350427 % of employees who have quit their job were doing overtime\n"
     ]
    },
    {
     "data": {
      "text/plain": [
       "<seaborn.axisgrid.FacetGrid at 0x7f804d2d38b0>"
      ]
     },
     "execution_count": 147,
     "metadata": {},
     "output_type": "execute_result"
    },
    {
     "data": {
      "image/png": "[encoded data removed]",
      "text/plain": [
       "<Figure size 582.986x500 with 1 Axes>"
      ]
     },
     "metadata": {},
     "output_type": "display_data"
    }
   ],
   "source": [
    "overtime_counts = df_attrition_happend['Over Time'].value_counts()\n",
    "print(overtime_counts, '\\n')\n",
    "percent  = 127/234*100\n",
    "print(f'{percent} % of employees who have quit their job were doing overtime')\n",
    "sns.displot( x='Attrition', data=df, hue='Over Time', multiple='stack')"
   ]
  },
  {
   "cell_type": "markdown",
   "id": "e0764572",
   "metadata": {},
   "source": [
    "# 2. Employee Demographics:"
   ]
  },
  {
   "cell_type": "markdown",
   "id": "2a67fe99",
   "metadata": {},
   "source": [
    "### 2.1 What is the gender distribution among employees?"
   ]
  },
  {
   "cell_type": "code",
   "execution_count": 188,
   "id": "9fbfbfff",
   "metadata": {},
   "outputs": [
    {
     "data": {
      "text/plain": [
       "<function matplotlib.pyplot.show(close=None, block=None)>"
      ]
     },
     "execution_count": 188,
     "metadata": {},
     "output_type": "execute_result"
    },
    {
     "data": {
      "image/png": "[encoded data removed]",
      "text/plain": [
       "<Figure size 1000x500 with 2 Axes>"
      ]
     },
     "metadata": {},
     "output_type": "display_data"
    }
   ],
   "source": [
    "fig = plt.figure(figsize=(10,5))\n",
    "\n",
    "fig.add_subplot(1,2,1) #row,col,postion\n",
    "df['Gender'].value_counts().plot(kind='bar')\n",
    "plt.title('Overall Gender Count')\n",
    "\n",
    "fig.add_subplot(1,2,2) #row,col,postion\n",
    "df_attrition_happend['Gender'].value_counts().plot(kind='bar')\n",
    "plt.title('Attrition = Yes Gender Count')\n",
    "\n",
    "plt.show"
   ]
  },
  {
   "cell_type": "markdown",
   "id": "9b544cfd",
   "metadata": {},
   "source": [
    "### <font color='darkblue'>As above plots describes there are more male employees in the organization and even in when it comes to quitting the jobs male employees are more likely to quite jobs </font>"
   ]
  },
  {
   "cell_type": "code",
   "execution_count": 164,
   "id": "78f66cfd",
   "metadata": {},
   "outputs": [
    {
     "data": {
      "text/plain": [
       "Male      882\n",
       "Female    588\n",
       "Name: Gender, dtype: int64"
      ]
     },
     "execution_count": 164,
     "metadata": {},
     "output_type": "execute_result"
    }
   ],
   "source": [
    "df['Gender'].value_counts()"
   ]
  },
  {
   "cell_type": "code",
   "execution_count": 165,
   "id": "5c741f39",
   "metadata": {},
   "outputs": [
    {
     "data": {
      "text/plain": [
       "Male      150\n",
       "Female     87\n",
       "Name: Gender, dtype: int64"
      ]
     },
     "execution_count": 165,
     "metadata": {},
     "output_type": "execute_result"
    }
   ],
   "source": [
    "df_attrition_happend['Gender'].value_counts()"
   ]
  },
  {
   "cell_type": "code",
   "execution_count": 169,
   "id": "52cf6f58",
   "metadata": {},
   "outputs": [],
   "source": [
    "male_quit_ration = 150/882*100 \n",
    "female_quit_ration  = 87/588*100"
   ]
  },
  {
   "cell_type": "markdown",
   "id": "36b6740d",
   "metadata": {},
   "source": [
    "### <font color='darkblue'> Male quitting their jobs in percent = 17.00 % and Female quitting their jobs in percent  = 14.79%</font>"
   ]
  },
  {
   "cell_type": "markdown",
   "id": "61117e79",
   "metadata": {},
   "source": [
    "### 2.2 Are there any differences in attrition rates based on education fields or levels?"
   ]
  },
  {
   "cell_type": "code",
   "execution_count": 177,
   "id": "7ad90a35",
   "metadata": {
    "scrolled": true
   },
   "outputs": [
    {
     "data": {
      "text/plain": [
       "Bachelor's Degree    99\n",
       "Master's Degree      58\n",
       "Associates Degree    44\n",
       "High School          31\n",
       "Doctoral Degree       5\n",
       "Name: Education, dtype: int64"
      ]
     },
     "execution_count": 177,
     "metadata": {},
     "output_type": "execute_result"
    }
   ],
   "source": [
    "df_attrition_happend['Education'].value_counts()"
   ]
  },
  {
   "cell_type": "markdown",
   "id": "66916ab3",
   "metadata": {},
   "source": [
    "### <font color='darkblue'>Lest's start with \"Education\" where Bachelor's Degree employees have quit their jobs most and Doctoral Degree employees have quit their jobs least this is possible because most of Doctoral Degree employees are on the higher management of the company.</font>"
   ]
  },
  {
   "cell_type": "code",
   "execution_count": 186,
   "id": "8802855a",
   "metadata": {},
   "outputs": [
    {
     "data": {
      "text/plain": [
       "<AxesSubplot:ylabel='Education'>"
      ]
     },
     "execution_count": 186,
     "metadata": {},
     "output_type": "execute_result"
    },
    {
     "data": {
      "image/png": "[encoded data removed]",
      "text/plain": [
       "<Figure size 640x480 with 1 Axes>"
      ]
     },
     "metadata": {},
     "output_type": "display_data"
    }
   ],
   "source": [
    "df_attrition_happend['Education'].value_counts().plot(kind='pie')"
   ]
  },
  {
   "cell_type": "code",
   "execution_count": 179,
   "id": "cd8392f2",
   "metadata": {},
   "outputs": [
    {
     "data": {
      "text/plain": [
       "Life Sciences       89\n",
       "Medical             63\n",
       "Marketing           35\n",
       "Technical Degree    32\n",
       "Other               11\n",
       "Human Resources      7\n",
       "Name: Education Field, dtype: int64"
      ]
     },
     "execution_count": 179,
     "metadata": {},
     "output_type": "execute_result"
    }
   ],
   "source": [
    "df_attrition_happend['Education Field'].value_counts()"
   ]
  },
  {
   "cell_type": "markdown",
   "id": "a5bcc8e9",
   "metadata": {},
   "source": [
    "### <font color='darkblue'>In the Life Science and Medical field we can see ample amount of attrition rate as compare to other fields, as both of the fields combined contributes 50% + to the attrition rate</font>"
   ]
  },
  {
   "cell_type": "code",
   "execution_count": 185,
   "id": "52beeca9",
   "metadata": {},
   "outputs": [
    {
     "data": {
      "text/plain": [
       "<AxesSubplot:ylabel='Education Field'>"
      ]
     },
     "execution_count": 185,
     "metadata": {},
     "output_type": "execute_result"
    },
    {
     "data": {
      "image/png": "[encoded data removed]",
      "text/plain": [
       "<Figure size 640x480 with 1 Axes>"
      ]
     },
     "metadata": {},
     "output_type": "display_data"
    }
   ],
   "source": [
    "df_attrition_happend['Education Field'].value_counts().plot(kind='pie')"
   ]
  },
  {
   "cell_type": "markdown",
   "id": "a2a67ee9",
   "metadata": {},
   "source": [
    "# 3. Job Role Analysis:"
   ]
  },
  {
   "cell_type": "markdown",
   "id": "52158218",
   "metadata": {},
   "source": [
    "### 3.1 Which job roles have the highest and lowest attrition rates?"
   ]
  },
  {
   "cell_type": "code",
   "execution_count": 190,
   "id": "a5b4224f",
   "metadata": {},
   "outputs": [
    {
     "data": {
      "text/plain": [
       "Laboratory Technician        62\n",
       "Sales Executive              57\n",
       "Research Scientist           47\n",
       "Sales Representative         33\n",
       "Human Resources              12\n",
       "Manufacturing Director       10\n",
       "Healthcare Representative     9\n",
       "Manager                       5\n",
       "Research Director             2\n",
       "Name: Job Role, dtype: int64"
      ]
     },
     "execution_count": 190,
     "metadata": {},
     "output_type": "execute_result"
    }
   ],
   "source": [
    "df_attrition_happend['Job Role'].value_counts()"
   ]
  },
  {
   "cell_type": "markdown",
   "id": "591cb695",
   "metadata": {},
   "source": [
    "### <font color='darkblue'>62 Laboratory Technicians have quit their jobs which is the heightest for single role and Research DIrector has least attrition rate just of 2 which is grate thing.</font>"
   ]
  },
  {
   "cell_type": "markdown",
   "id": "9553448e",
   "metadata": {},
   "source": [
    "### 3.2 Do certain job roles require more training compared to others, and does that affect attrition?"
   ]
  },
  {
   "cell_type": "code",
   "execution_count": 196,
   "id": "a8be4084",
   "metadata": {},
   "outputs": [
    {
     "data": {
      "text/plain": [
       "2    98\n",
       "3    69\n",
       "4    26\n",
       "0    15\n",
       "5    14\n",
       "1     9\n",
       "6     6\n",
       "Name: Training Times Last Year, dtype: int64"
      ]
     },
     "execution_count": 196,
     "metadata": {},
     "output_type": "execute_result"
    }
   ],
   "source": [
    "df_attrition_happend['Training Times Last Year'].value_counts()"
   ]
  },
  {
   "cell_type": "code",
   "execution_count": 197,
   "id": "ef205486",
   "metadata": {},
   "outputs": [
    {
     "data": {
      "text/plain": [
       "2    547\n",
       "3    491\n",
       "4    123\n",
       "5    119\n",
       "1     71\n",
       "6     65\n",
       "0     54\n",
       "Name: Training Times Last Year, dtype: int64"
      ]
     },
     "execution_count": 197,
     "metadata": {},
     "output_type": "execute_result"
    }
   ],
   "source": [
    "df['Training Times Last Year'].value_counts()"
   ]
  },
  {
   "cell_type": "code",
   "execution_count": 221,
   "id": "ff7352dd",
   "metadata": {},
   "outputs": [
    {
     "data": {
      "text/html": [
       "<div>\n",
       "<style scoped>\n",
       "    .dataframe tbody tr th:only-of-type {\n",
       "        vertical-align: middle;\n",
       "    }\n",
       "\n",
       "    .dataframe tbody tr th {\n",
       "        vertical-align: top;\n",
       "    }\n",
       "\n",
       "    .dataframe thead th {\n",
       "        text-align: right;\n",
       "    }\n",
       "</style>\n",
       "<table border=\"1\" class=\"dataframe\">\n",
       "  <thead>\n",
       "    <tr style=\"text-align: right;\">\n",
       "      <th></th>\n",
       "      <th>Training Times Last Year</th>\n",
       "      <th>Job Role</th>\n",
       "    </tr>\n",
       "  </thead>\n",
       "  <tbody>\n",
       "    <tr>\n",
       "      <th>7</th>\n",
       "      <td>326</td>\n",
       "      <td>Sales Executive</td>\n",
       "    </tr>\n",
       "    <tr>\n",
       "      <th>6</th>\n",
       "      <td>292</td>\n",
       "      <td>Research Scientist</td>\n",
       "    </tr>\n",
       "    <tr>\n",
       "      <th>2</th>\n",
       "      <td>259</td>\n",
       "      <td>Laboratory Technician</td>\n",
       "    </tr>\n",
       "    <tr>\n",
       "      <th>4</th>\n",
       "      <td>145</td>\n",
       "      <td>Manufacturing Director</td>\n",
       "    </tr>\n",
       "    <tr>\n",
       "      <th>0</th>\n",
       "      <td>131</td>\n",
       "      <td>Healthcare Representative</td>\n",
       "    </tr>\n",
       "    <tr>\n",
       "      <th>3</th>\n",
       "      <td>102</td>\n",
       "      <td>Manager</td>\n",
       "    </tr>\n",
       "    <tr>\n",
       "      <th>8</th>\n",
       "      <td>83</td>\n",
       "      <td>Sales Representative</td>\n",
       "    </tr>\n",
       "    <tr>\n",
       "      <th>5</th>\n",
       "      <td>80</td>\n",
       "      <td>Research Director</td>\n",
       "    </tr>\n",
       "    <tr>\n",
       "      <th>1</th>\n",
       "      <td>52</td>\n",
       "      <td>Human Resources</td>\n",
       "    </tr>\n",
       "  </tbody>\n",
       "</table>\n",
       "</div>"
      ],
      "text/plain": [
       "   Training Times Last Year                   Job Role\n",
       "7                       326            Sales Executive\n",
       "6                       292         Research Scientist\n",
       "2                       259      Laboratory Technician\n",
       "4                       145     Manufacturing Director\n",
       "0                       131  Healthcare Representative\n",
       "3                       102                    Manager\n",
       "8                        83       Sales Representative\n",
       "5                        80          Research Director\n",
       "1                        52            Human Resources"
      ]
     },
     "execution_count": 221,
     "metadata": {},
     "output_type": "execute_result"
    }
   ],
   "source": [
    "job_role_group_df = df.groupby('Job Role').count()\n",
    "job_role_group_df = job_role_group_df.reset_index()\n",
    "job_role_group_df[['Training Times Last Year','Job Role']].sort_values(by='Training Times Last Year', ascending=False)"
   ]
  },
  {
   "cell_type": "markdown",
   "id": "94dc2234",
   "metadata": {},
   "source": [
    "#### 1.  Complete Dataset ⬆️"
   ]
  },
  {
   "cell_type": "code",
   "execution_count": 207,
   "id": "0693f091",
   "metadata": {},
   "outputs": [],
   "source": [
    "job_role_group = df_attrition_happend.groupby('Job Role').count()"
   ]
  },
  {
   "cell_type": "code",
   "execution_count": 208,
   "id": "019c2be9",
   "metadata": {},
   "outputs": [],
   "source": [
    "job_role_group = job_role_group.reset_index()"
   ]
  },
  {
   "cell_type": "code",
   "execution_count": 222,
   "id": "05330ffc",
   "metadata": {},
   "outputs": [
    {
     "data": {
      "text/html": [
       "<div>\n",
       "<style scoped>\n",
       "    .dataframe tbody tr th:only-of-type {\n",
       "        vertical-align: middle;\n",
       "    }\n",
       "\n",
       "    .dataframe tbody tr th {\n",
       "        vertical-align: top;\n",
       "    }\n",
       "\n",
       "    .dataframe thead th {\n",
       "        text-align: right;\n",
       "    }\n",
       "</style>\n",
       "<table border=\"1\" class=\"dataframe\">\n",
       "  <thead>\n",
       "    <tr style=\"text-align: right;\">\n",
       "      <th></th>\n",
       "      <th>Training Times Last Year</th>\n",
       "      <th>Job Role</th>\n",
       "    </tr>\n",
       "  </thead>\n",
       "  <tbody>\n",
       "    <tr>\n",
       "      <th>2</th>\n",
       "      <td>62</td>\n",
       "      <td>Laboratory Technician</td>\n",
       "    </tr>\n",
       "    <tr>\n",
       "      <th>7</th>\n",
       "      <td>57</td>\n",
       "      <td>Sales Executive</td>\n",
       "    </tr>\n",
       "    <tr>\n",
       "      <th>6</th>\n",
       "      <td>47</td>\n",
       "      <td>Research Scientist</td>\n",
       "    </tr>\n",
       "    <tr>\n",
       "      <th>8</th>\n",
       "      <td>33</td>\n",
       "      <td>Sales Representative</td>\n",
       "    </tr>\n",
       "    <tr>\n",
       "      <th>1</th>\n",
       "      <td>12</td>\n",
       "      <td>Human Resources</td>\n",
       "    </tr>\n",
       "    <tr>\n",
       "      <th>4</th>\n",
       "      <td>10</td>\n",
       "      <td>Manufacturing Director</td>\n",
       "    </tr>\n",
       "    <tr>\n",
       "      <th>0</th>\n",
       "      <td>9</td>\n",
       "      <td>Healthcare Representative</td>\n",
       "    </tr>\n",
       "    <tr>\n",
       "      <th>3</th>\n",
       "      <td>5</td>\n",
       "      <td>Manager</td>\n",
       "    </tr>\n",
       "    <tr>\n",
       "      <th>5</th>\n",
       "      <td>2</td>\n",
       "      <td>Research Director</td>\n",
       "    </tr>\n",
       "  </tbody>\n",
       "</table>\n",
       "</div>"
      ],
      "text/plain": [
       "   Training Times Last Year                   Job Role\n",
       "2                        62      Laboratory Technician\n",
       "7                        57            Sales Executive\n",
       "6                        47         Research Scientist\n",
       "8                        33       Sales Representative\n",
       "1                        12            Human Resources\n",
       "4                        10     Manufacturing Director\n",
       "0                         9  Healthcare Representative\n",
       "3                         5                    Manager\n",
       "5                         2          Research Director"
      ]
     },
     "execution_count": 222,
     "metadata": {},
     "output_type": "execute_result"
    }
   ],
   "source": [
    "job_role_group[['Training Times Last Year','Job Role']].sort_values(by='Training Times Last Year',ascending=False)"
   ]
  },
  {
   "cell_type": "markdown",
   "id": "cc735324",
   "metadata": {},
   "source": [
    "#### 2. Above =  Attrition Dataset  ⬆️"
   ]
  },
  {
   "cell_type": "markdown",
   "id": "aea61490",
   "metadata": {},
   "source": [
    "### <font color='darkblue'>From the 1st dataframe we can see 'Laboratory Technician','Sales Executive','Research Scientist' are the top 3 fields whoes employees were undergone for training and same 3 fields are in top 3 for dataset where employees have quite their job  </font>"
   ]
  },
  {
   "cell_type": "markdown",
   "id": "6e4e5512",
   "metadata": {},
   "source": [
    "# 4. Employee Performance and Satisfaction"
   ]
  },
  {
   "cell_type": "markdown",
   "id": "36af4281",
   "metadata": {},
   "source": [
    "### 4.1 Is there a relationship between performance ratings and attrition rates?\n"
   ]
  },
  {
   "cell_type": "code",
   "execution_count": 229,
   "id": "0bb91bfe",
   "metadata": {},
   "outputs": [
    {
     "data": {
      "text/plain": [
       "array([3, 4])"
      ]
     },
     "execution_count": 229,
     "metadata": {},
     "output_type": "execute_result"
    }
   ],
   "source": [
    "df_attrition_happend['Performance Rating'].unique()"
   ]
  },
  {
   "cell_type": "code",
   "execution_count": 230,
   "id": "39764673",
   "metadata": {},
   "outputs": [
    {
     "data": {
      "text/plain": [
       "<AxesSubplot:>"
      ]
     },
     "execution_count": 230,
     "metadata": {},
     "output_type": "execute_result"
    },
    {
     "data": {
      "image/png": "[encoded data removed]",
      "text/plain": [
       "<Figure size 640x480 with 1 Axes>"
      ]
     },
     "metadata": {},
     "output_type": "display_data"
    }
   ],
   "source": [
    "df_attrition_happend['Performance Rating'].value_counts().plot(kind='bar')"
   ]
  },
  {
   "cell_type": "markdown",
   "id": "4ea120af",
   "metadata": {},
   "source": [
    "### <font color='darkblue'>From the above observation we can say employees with performance of 3 are more likely to quit their jobs </font>"
   ]
  },
  {
   "cell_type": "code",
   "execution_count": 231,
   "id": "98bbe57f",
   "metadata": {},
   "outputs": [
    {
     "data": {
      "text/html": [
       "<div>\n",
       "<style scoped>\n",
       "    .dataframe tbody tr th:only-of-type {\n",
       "        vertical-align: middle;\n",
       "    }\n",
       "\n",
       "    .dataframe tbody tr th {\n",
       "        vertical-align: top;\n",
       "    }\n",
       "\n",
       "    .dataframe thead th {\n",
       "        text-align: right;\n",
       "    }\n",
       "</style>\n",
       "<table border=\"1\" class=\"dataframe\">\n",
       "  <thead>\n",
       "    <tr style=\"text-align: right;\">\n",
       "      <th></th>\n",
       "      <th>Attrition</th>\n",
       "      <th>Business Travel</th>\n",
       "      <th>CF_age band</th>\n",
       "      <th>CF_attrition label</th>\n",
       "      <th>Department</th>\n",
       "      <th>Education Field</th>\n",
       "      <th>emp no</th>\n",
       "      <th>Employee Number</th>\n",
       "      <th>Gender</th>\n",
       "      <th>Job Role</th>\n",
       "      <th>...</th>\n",
       "      <th>Performance Rating</th>\n",
       "      <th>Relationship Satisfaction</th>\n",
       "      <th>Standard Hours</th>\n",
       "      <th>Stock Option Level</th>\n",
       "      <th>Total Working Years</th>\n",
       "      <th>Work Life Balance</th>\n",
       "      <th>Years At Company</th>\n",
       "      <th>Years In Current Role</th>\n",
       "      <th>Years Since Last Promotion</th>\n",
       "      <th>Years With Curr Manager</th>\n",
       "    </tr>\n",
       "  </thead>\n",
       "  <tbody>\n",
       "    <tr>\n",
       "      <th>0</th>\n",
       "      <td>1</td>\n",
       "      <td>Travel_Rarely</td>\n",
       "      <td>35 - 44</td>\n",
       "      <td>Ex-Employees</td>\n",
       "      <td>Sales</td>\n",
       "      <td>Life Sciences</td>\n",
       "      <td>STAFF-1</td>\n",
       "      <td>1</td>\n",
       "      <td>Female</td>\n",
       "      <td>Sales Executive</td>\n",
       "      <td>...</td>\n",
       "      <td>3</td>\n",
       "      <td>1</td>\n",
       "      <td>80</td>\n",
       "      <td>0</td>\n",
       "      <td>8</td>\n",
       "      <td>1</td>\n",
       "      <td>6</td>\n",
       "      <td>4</td>\n",
       "      <td>0</td>\n",
       "      <td>5</td>\n",
       "    </tr>\n",
       "    <tr>\n",
       "      <th>1</th>\n",
       "      <td>0</td>\n",
       "      <td>Travel_Frequently</td>\n",
       "      <td>45 - 54</td>\n",
       "      <td>Current Employees</td>\n",
       "      <td>R&amp;D</td>\n",
       "      <td>Life Sciences</td>\n",
       "      <td>STAFF-2</td>\n",
       "      <td>2</td>\n",
       "      <td>Male</td>\n",
       "      <td>Research Scientist</td>\n",
       "      <td>...</td>\n",
       "      <td>4</td>\n",
       "      <td>4</td>\n",
       "      <td>80</td>\n",
       "      <td>1</td>\n",
       "      <td>10</td>\n",
       "      <td>3</td>\n",
       "      <td>10</td>\n",
       "      <td>7</td>\n",
       "      <td>1</td>\n",
       "      <td>7</td>\n",
       "    </tr>\n",
       "    <tr>\n",
       "      <th>2</th>\n",
       "      <td>1</td>\n",
       "      <td>Travel_Rarely</td>\n",
       "      <td>35 - 44</td>\n",
       "      <td>Ex-Employees</td>\n",
       "      <td>R&amp;D</td>\n",
       "      <td>Other</td>\n",
       "      <td>STAFF-4</td>\n",
       "      <td>4</td>\n",
       "      <td>Male</td>\n",
       "      <td>Laboratory Technician</td>\n",
       "      <td>...</td>\n",
       "      <td>3</td>\n",
       "      <td>2</td>\n",
       "      <td>80</td>\n",
       "      <td>0</td>\n",
       "      <td>7</td>\n",
       "      <td>3</td>\n",
       "      <td>0</td>\n",
       "      <td>0</td>\n",
       "      <td>0</td>\n",
       "      <td>0</td>\n",
       "    </tr>\n",
       "    <tr>\n",
       "      <th>3</th>\n",
       "      <td>0</td>\n",
       "      <td>Travel_Frequently</td>\n",
       "      <td>25 - 34</td>\n",
       "      <td>Current Employees</td>\n",
       "      <td>R&amp;D</td>\n",
       "      <td>Life Sciences</td>\n",
       "      <td>STAFF-5</td>\n",
       "      <td>5</td>\n",
       "      <td>Female</td>\n",
       "      <td>Research Scientist</td>\n",
       "      <td>...</td>\n",
       "      <td>3</td>\n",
       "      <td>3</td>\n",
       "      <td>80</td>\n",
       "      <td>0</td>\n",
       "      <td>8</td>\n",
       "      <td>3</td>\n",
       "      <td>8</td>\n",
       "      <td>7</td>\n",
       "      <td>3</td>\n",
       "      <td>0</td>\n",
       "    </tr>\n",
       "    <tr>\n",
       "      <th>4</th>\n",
       "      <td>0</td>\n",
       "      <td>Travel_Rarely</td>\n",
       "      <td>25 - 34</td>\n",
       "      <td>Current Employees</td>\n",
       "      <td>R&amp;D</td>\n",
       "      <td>Medical</td>\n",
       "      <td>STAFF-7</td>\n",
       "      <td>7</td>\n",
       "      <td>Male</td>\n",
       "      <td>Laboratory Technician</td>\n",
       "      <td>...</td>\n",
       "      <td>3</td>\n",
       "      <td>4</td>\n",
       "      <td>80</td>\n",
       "      <td>1</td>\n",
       "      <td>6</td>\n",
       "      <td>3</td>\n",
       "      <td>2</td>\n",
       "      <td>2</td>\n",
       "      <td>2</td>\n",
       "      <td>2</td>\n",
       "    </tr>\n",
       "  </tbody>\n",
       "</table>\n",
       "<p>5 rows × 41 columns</p>\n",
       "</div>"
      ],
      "text/plain": [
       "   Attrition    Business Travel CF_age band CF_attrition label Department  \\\n",
       "0          1      Travel_Rarely     35 - 44       Ex-Employees      Sales   \n",
       "1          0  Travel_Frequently     45 - 54  Current Employees        R&D   \n",
       "2          1      Travel_Rarely     35 - 44       Ex-Employees        R&D   \n",
       "3          0  Travel_Frequently     25 - 34  Current Employees        R&D   \n",
       "4          0      Travel_Rarely     25 - 34  Current Employees        R&D   \n",
       "\n",
       "  Education Field   emp no  Employee Number  Gender               Job Role  \\\n",
       "0   Life Sciences  STAFF-1                1  Female        Sales Executive   \n",
       "1   Life Sciences  STAFF-2                2    Male     Research Scientist   \n",
       "2           Other  STAFF-4                4    Male  Laboratory Technician   \n",
       "3   Life Sciences  STAFF-5                5  Female     Research Scientist   \n",
       "4         Medical  STAFF-7                7    Male  Laboratory Technician   \n",
       "\n",
       "   ... Performance Rating  Relationship Satisfaction Standard Hours  \\\n",
       "0  ...                  3                          1             80   \n",
       "1  ...                  4                          4             80   \n",
       "2  ...                  3                          2             80   \n",
       "3  ...                  3                          3             80   \n",
       "4  ...                  3                          4             80   \n",
       "\n",
       "   Stock Option Level  Total Working Years  Work Life Balance  \\\n",
       "0                   0                    8                  1   \n",
       "1                   1                   10                  3   \n",
       "2                   0                    7                  3   \n",
       "3                   0                    8                  3   \n",
       "4                   1                    6                  3   \n",
       "\n",
       "   Years At Company  Years In Current Role  Years Since Last Promotion  \\\n",
       "0                 6                      4                           0   \n",
       "1                10                      7                           1   \n",
       "2                 0                      0                           0   \n",
       "3                 8                      7                           3   \n",
       "4                 2                      2                           2   \n",
       "\n",
       "   Years With Curr Manager  \n",
       "0                        5  \n",
       "1                        7  \n",
       "2                        0  \n",
       "3                        0  \n",
       "4                        2  \n",
       "\n",
       "[5 rows x 41 columns]"
      ]
     },
     "execution_count": 231,
     "metadata": {},
     "output_type": "execute_result"
    }
   ],
   "source": [
    "df.head()"
   ]
  },
  {
   "cell_type": "markdown",
   "id": "abd91659",
   "metadata": {},
   "source": [
    "### 4.2 How does employee satisfaction (environment satisfaction, job satisfaction, relationship satisfaction) impact attrition?\n"
   ]
  },
  {
   "cell_type": "markdown",
   "id": "5a0d5887",
   "metadata": {},
   "source": [
    "### Environment satisfaction"
   ]
  },
  {
   "cell_type": "code",
   "execution_count": 235,
   "id": "0db0a22b",
   "metadata": {
    "scrolled": true
   },
   "outputs": [
    {
     "data": {
      "text/plain": [
       "<AxesSubplot:>"
      ]
     },
     "execution_count": 235,
     "metadata": {},
     "output_type": "execute_result"
    },
    {
     "data": {
      "image/png": "[encoded data removed]",
      "text/plain": [
       "<Figure size 640x480 with 1 Axes>"
      ]
     },
     "metadata": {},
     "output_type": "display_data"
    }
   ],
   "source": [
    "df_attrition_happend['Environment Satisfaction'].value_counts().plot(kind='bar')"
   ]
  },
  {
   "cell_type": "markdown",
   "id": "7739aaf9",
   "metadata": {},
   "source": [
    "### Job satisfaction"
   ]
  },
  {
   "cell_type": "code",
   "execution_count": 237,
   "id": "717cc124",
   "metadata": {
    "scrolled": true
   },
   "outputs": [
    {
     "data": {
      "text/plain": [
       "<AxesSubplot:>"
      ]
     },
     "execution_count": 237,
     "metadata": {},
     "output_type": "execute_result"
    },
    {
     "data": {
      "image/png": "[encoded data removed]",
      "text/plain": [
       "<Figure size 640x480 with 1 Axes>"
      ]
     },
     "metadata": {},
     "output_type": "display_data"
    }
   ],
   "source": [
    "df_attrition_happend['Job Satisfaction'].value_counts().plot(kind='bar')"
   ]
  },
  {
   "cell_type": "markdown",
   "id": "e775538a",
   "metadata": {},
   "source": [
    "### Relationship satisfaction"
   ]
  },
  {
   "cell_type": "code",
   "execution_count": 238,
   "id": "1fbb68ab",
   "metadata": {
    "scrolled": true
   },
   "outputs": [
    {
     "data": {
      "text/plain": [
       "<AxesSubplot:>"
      ]
     },
     "execution_count": 238,
     "metadata": {},
     "output_type": "execute_result"
    },
    {
     "data": {
      "image/png": "[encoded data removed]",
      "text/plain": [
       "<Figure size 640x480 with 1 Axes>"
      ]
     },
     "metadata": {},
     "output_type": "display_data"
    }
   ],
   "source": [
    "df_attrition_happend['Relationship Satisfaction'].value_counts().plot(kind='bar')"
   ]
  },
  {
   "cell_type": "markdown",
   "id": "711732f7",
   "metadata": {},
   "source": [
    "# 5. Work-Life Balance and Employee Tenure:\n"
   ]
  },
  {
   "cell_type": "markdown",
   "id": "3435cc30",
   "metadata": {},
   "source": [
    "### 5.1 Does work-life balance impact the number of years an employee stays with the company?"
   ]
  },
  {
   "cell_type": "code",
   "execution_count": 335,
   "id": "236e688a",
   "metadata": {},
   "outputs": [],
   "source": [
    "attrition_not_happend_filt = df['Attrition'] == 0\n",
    "df_attrition_not_happend = df[attrition_not_happend_filt]"
   ]
  },
  {
   "cell_type": "code",
   "execution_count": 334,
   "id": "70151eb8",
   "metadata": {},
   "outputs": [
    {
     "name": "stdout",
     "output_type": "stream",
     "text": [
      "1     20\n",
      "2     12\n",
      "4      9\n",
      "10     9\n",
      "7      6\n",
      "0      5\n",
      "5      5\n",
      "6      3\n",
      "3      3\n",
      "8      2\n",
      "9      2\n",
      "14     2\n",
      "40     1\n",
      "11     1\n",
      "21     1\n",
      "19     1\n",
      "23     1\n",
      "Name: Years At Company, dtype: int64\n"
     ]
    },
    {
     "data": {
      "text/plain": [
       "<AxesSubplot:>"
      ]
     },
     "execution_count": 334,
     "metadata": {},
     "output_type": "execute_result"
    },
    {
     "data": {
      "image/png": "[encoded data removed]",
      "text/plain": [
       "<Figure size 640x480 with 1 Axes>"
      ]
     },
     "metadata": {},
     "output_type": "display_data"
    }
   ],
   "source": [
    "work_life_filt =  df_attrition_happend['Work Life Balance'] <=2\n",
    "work_life = df_attrition_happend[work_life_filt]\n",
    "print(work_life['Years At Company'].value_counts())\n",
    "work_life['Years At Company'].value_counts().plot(kind='bar')"
   ]
  },
  {
   "cell_type": "code",
   "execution_count": null,
   "id": "cad05087",
   "metadata": {},
   "outputs": [],
   "source": []
  },
  {
   "cell_type": "markdown",
   "id": "8362f833",
   "metadata": {},
   "source": [
    "### <font color='darkblue'>The above plot describes the number of employees who have quit their jobs and whose work-life balance score was below average, and it is really visible that out of 83 employees with less balance, 37 chose to quit the company in 0 to 2 years, so yes, it really affects the attrition rate.\n",
    "</font>"
   ]
  },
  {
   "cell_type": "markdown",
   "id": "ae95c981",
   "metadata": {},
   "source": [
    "### 5.2 Is there any correlation between the total working years and attrition rates?"
   ]
  },
  {
   "cell_type": "code",
   "execution_count": 345,
   "id": "7ccdc53f",
   "metadata": {},
   "outputs": [
    {
     "data": {
      "text/plain": [
       "1     40\n",
       "10    25\n",
       "6     22\n",
       "7     18\n",
       "8     16\n",
       "5     16\n",
       "4     12\n",
       "9     10\n",
       "3      9\n",
       "2      9\n",
       "11     7\n",
       "15     5\n",
       "12     5\n",
       "0      5\n",
       "14     4\n",
       "18     4\n",
       "17     3\n",
       "24     3\n",
       "13     3\n",
       "16     3\n",
       "19     3\n",
       "22     2\n",
       "23     2\n",
       "40     2\n",
       "20     2\n",
       "33     1\n",
       "21     1\n",
       "26     1\n",
       "31     1\n",
       "34     1\n",
       "25     1\n",
       "28     1\n",
       "Name: Total Working Years, dtype: int64"
      ]
     },
     "execution_count": 345,
     "metadata": {},
     "output_type": "execute_result"
    }
   ],
   "source": [
    "df_attrition_happend['Total Working Years'].value_counts()"
   ]
  },
  {
   "cell_type": "code",
   "execution_count": 349,
   "id": "ae084ff4",
   "metadata": {},
   "outputs": [
    {
     "data": {
      "text/plain": [
       "8.244725738396625"
      ]
     },
     "execution_count": 349,
     "metadata": {},
     "output_type": "execute_result"
    }
   ],
   "source": [
    "df_attrition_happend['Total Working Years'].mean()"
   ]
  },
  {
   "cell_type": "code",
   "execution_count": 347,
   "id": "df08f6a4",
   "metadata": {},
   "outputs": [
    {
     "data": {
      "text/plain": [
       "5.1308016877637135"
      ]
     },
     "execution_count": 347,
     "metadata": {},
     "output_type": "execute_result"
    }
   ],
   "source": [
    "df_attrition_happend['Years At Company'].mean()"
   ]
  },
  {
   "cell_type": "code",
   "execution_count": 370,
   "id": "e5a5264a",
   "metadata": {},
   "outputs": [
    {
     "data": {
      "text/plain": [
       "<seaborn.axisgrid.FacetGrid at 0x7f80338c78b0>"
      ]
     },
     "execution_count": 370,
     "metadata": {},
     "output_type": "execute_result"
    },
    {
     "data": {
      "image/png": "[encoded data removed]",
      "text/plain": [
       "<Figure size 640x480 with 1 Axes>"
      ]
     },
     "metadata": {},
     "output_type": "display_data"
    },
    {
     "data": {
      "image/png": "[encoded data removed]",
      "text/plain": [
       "<Figure size 567.611x500 with 1 Axes>"
      ]
     },
     "metadata": {},
     "output_type": "display_data"
    }
   ],
   "source": [
    "df_attrition_happend['Total Working Years'].value_counts().plot(kind='bar')\n",
    "sns.displot( x='Total Working Years', data=df, hue='Attrition', multiple='stack')"
   ]
  },
  {
   "cell_type": "code",
   "execution_count": null,
   "id": "d39bb611",
   "metadata": {},
   "outputs": [],
   "source": []
  },
  {
   "cell_type": "markdown",
   "id": "46cd8c49",
   "metadata": {},
   "source": [
    "### <font color='darkblue'>So from the above plot, we can say that employees with experience around 8–10 years are quitting the company because either they have a better opportunity somewhere else or they're starting their own business after getting experience of almost a decade in the industry\n",
    "</font>\n",
    "\n",
    "### <font color='darkblue'>When it comes to employees with 20+ years of experience, the most likely case for them must be they are retiring from the work and living peacefully\n",
    "</font>"
   ]
  },
  {
   "cell_type": "markdown",
   "id": "289b5fbc",
   "metadata": {},
   "source": [
    "# 6. Compensation and Attrition:"
   ]
  },
  {
   "cell_type": "markdown",
   "id": "f4ca316e",
   "metadata": {},
   "source": [
    "### 6.1 Is there a difference in attrition rates based on the distance from home or the daily rate of employees?"
   ]
  },
  {
   "cell_type": "code",
   "execution_count": 10,
   "id": "ff9d20a2",
   "metadata": {
    "scrolled": true
   },
   "outputs": [
    {
     "data": {
      "text/plain": [
       "8.172413793103448"
      ]
     },
     "execution_count": 10,
     "metadata": {},
     "output_type": "execute_result"
    }
   ],
   "source": [
    "df_attrition_happend['Distance From Home'].value_counts().mean()"
   ]
  },
  {
   "cell_type": "markdown",
   "id": "a4e508a1",
   "metadata": {},
   "source": [
    "### 6.2 How do monthly income or salary hikes influence attrition"
   ]
  },
  {
   "cell_type": "code",
   "execution_count": 563,
   "id": "556d2537",
   "metadata": {},
   "outputs": [
    {
     "data": {
      "text/plain": [
       "6832.739659367397"
      ]
     },
     "execution_count": 563,
     "metadata": {},
     "output_type": "execute_result"
    }
   ],
   "source": [
    "df_attrition_not_happend['Monthly Income'].mean()"
   ]
  },
  {
   "cell_type": "code",
   "execution_count": 564,
   "id": "1975e334",
   "metadata": {},
   "outputs": [
    {
     "data": {
      "text/plain": [
       "4787.0928270042195"
      ]
     },
     "execution_count": 564,
     "metadata": {},
     "output_type": "execute_result"
    }
   ],
   "source": [
    "df_attrition_happend['Monthly Income'].mean()"
   ]
  },
  {
   "cell_type": "markdown",
   "id": "394a4df1",
   "metadata": {},
   "source": [
    "### <font color='darkblue'>Employees who leave the company have an average salary approximately 2000/- lower than those who remain.</font>"
   ]
  },
  {
   "cell_type": "code",
   "execution_count": 560,
   "id": "45686679",
   "metadata": {
    "scrolled": false
   },
   "outputs": [
    {
     "data": {
      "text/plain": [
       "<AxesSubplot:>"
      ]
     },
     "execution_count": 560,
     "metadata": {},
     "output_type": "execute_result"
    },
    {
     "data": {
      "image/png": "[encoded data removed]",
      "text/plain": [
       "<Figure size 640x480 with 1 Axes>"
      ]
     },
     "metadata": {},
     "output_type": "display_data"
    }
   ],
   "source": [
    "df['Percent Salary Hike'].value_counts().plot(kind='bar')"
   ]
  },
  {
   "cell_type": "code",
   "execution_count": 562,
   "id": "77a623ad",
   "metadata": {
    "scrolled": true
   },
   "outputs": [
    {
     "data": {
      "text/plain": [
       "<AxesSubplot:>"
      ]
     },
     "execution_count": 562,
     "metadata": {},
     "output_type": "execute_result"
    },
    {
     "data": {
      "image/png": "[encoded data removed]",
      "text/plain": [
       "<Figure size 640x480 with 1 Axes>"
      ]
     },
     "metadata": {},
     "output_type": "display_data"
    }
   ],
   "source": [
    "df_attrition_happend['Percent Salary Hike'].value_counts().plot(kind='bar')"
   ]
  },
  {
   "cell_type": "markdown",
   "id": "b9f75304",
   "metadata": {},
   "source": [
    "### <font color='darkblue'>So, from the above graph, we can say that the percentage hike does not contribute more to the attrition rate than the average salary does.\n",
    "</font>"
   ]
  },
  {
   "cell_type": "code",
   "execution_count": null,
   "id": "4a78a42d",
   "metadata": {},
   "outputs": [],
   "source": []
  },
  {
   "cell_type": "markdown",
   "id": "1d2dfaa1",
   "metadata": {},
   "source": [
    "# 7. Promotion and Career Development:"
   ]
  },
  {
   "cell_type": "markdown",
   "id": "8eff036e",
   "metadata": {},
   "source": [
    "### 7.1 Are employees who stay longer with the company more likely to get promotions?"
   ]
  },
  {
   "cell_type": "code",
   "execution_count": 419,
   "id": "943112fa",
   "metadata": {},
   "outputs": [
    {
     "data": {
      "text/plain": [
       "342"
      ]
     },
     "execution_count": 419,
     "metadata": {},
     "output_type": "execute_result"
    }
   ],
   "source": [
    "fresh_emp = df[df['Years At Company'] <= 2]\n",
    "fresh_emp.shape[0]"
   ]
  },
  {
   "cell_type": "code",
   "execution_count": 420,
   "id": "8a6866b5",
   "metadata": {},
   "outputs": [
    {
     "data": {
      "text/html": [
       "<div>\n",
       "<style scoped>\n",
       "    .dataframe tbody tr th:only-of-type {\n",
       "        vertical-align: middle;\n",
       "    }\n",
       "\n",
       "    .dataframe tbody tr th {\n",
       "        vertical-align: top;\n",
       "    }\n",
       "\n",
       "    .dataframe thead th {\n",
       "        text-align: right;\n",
       "    }\n",
       "</style>\n",
       "<table border=\"1\" class=\"dataframe\">\n",
       "  <thead>\n",
       "    <tr style=\"text-align: right;\">\n",
       "      <th></th>\n",
       "      <th>Attrition</th>\n",
       "      <th>Business Travel</th>\n",
       "      <th>CF_age band</th>\n",
       "      <th>CF_attrition label</th>\n",
       "      <th>Department</th>\n",
       "      <th>Education Field</th>\n",
       "      <th>emp no</th>\n",
       "      <th>Employee Number</th>\n",
       "      <th>Gender</th>\n",
       "      <th>Job Role</th>\n",
       "      <th>...</th>\n",
       "      <th>Performance Rating</th>\n",
       "      <th>Relationship Satisfaction</th>\n",
       "      <th>Standard Hours</th>\n",
       "      <th>Stock Option Level</th>\n",
       "      <th>Total Working Years</th>\n",
       "      <th>Work Life Balance</th>\n",
       "      <th>Years At Company</th>\n",
       "      <th>Years In Current Role</th>\n",
       "      <th>Years Since Last Promotion</th>\n",
       "      <th>Years With Curr Manager</th>\n",
       "    </tr>\n",
       "  </thead>\n",
       "  <tbody>\n",
       "    <tr>\n",
       "      <th>2</th>\n",
       "      <td>1</td>\n",
       "      <td>Travel_Rarely</td>\n",
       "      <td>35 - 44</td>\n",
       "      <td>Ex-Employees</td>\n",
       "      <td>R&amp;D</td>\n",
       "      <td>Other</td>\n",
       "      <td>STAFF-4</td>\n",
       "      <td>4</td>\n",
       "      <td>Male</td>\n",
       "      <td>Laboratory Technician</td>\n",
       "      <td>...</td>\n",
       "      <td>3</td>\n",
       "      <td>2</td>\n",
       "      <td>80</td>\n",
       "      <td>0</td>\n",
       "      <td>7</td>\n",
       "      <td>3</td>\n",
       "      <td>0</td>\n",
       "      <td>0</td>\n",
       "      <td>0</td>\n",
       "      <td>0</td>\n",
       "    </tr>\n",
       "    <tr>\n",
       "      <th>6</th>\n",
       "      <td>0</td>\n",
       "      <td>Travel_Rarely</td>\n",
       "      <td>Over 55</td>\n",
       "      <td>Current Employees</td>\n",
       "      <td>R&amp;D</td>\n",
       "      <td>Medical</td>\n",
       "      <td>STAFF-10</td>\n",
       "      <td>10</td>\n",
       "      <td>Female</td>\n",
       "      <td>Laboratory Technician</td>\n",
       "      <td>...</td>\n",
       "      <td>4</td>\n",
       "      <td>1</td>\n",
       "      <td>80</td>\n",
       "      <td>3</td>\n",
       "      <td>12</td>\n",
       "      <td>2</td>\n",
       "      <td>1</td>\n",
       "      <td>0</td>\n",
       "      <td>0</td>\n",
       "      <td>0</td>\n",
       "    </tr>\n",
       "    <tr>\n",
       "      <th>7</th>\n",
       "      <td>0</td>\n",
       "      <td>Travel_Rarely</td>\n",
       "      <td>25 - 34</td>\n",
       "      <td>Current Employees</td>\n",
       "      <td>R&amp;D</td>\n",
       "      <td>Life Sciences</td>\n",
       "      <td>STAFF-11</td>\n",
       "      <td>11</td>\n",
       "      <td>Male</td>\n",
       "      <td>Laboratory Technician</td>\n",
       "      <td>...</td>\n",
       "      <td>4</td>\n",
       "      <td>2</td>\n",
       "      <td>80</td>\n",
       "      <td>1</td>\n",
       "      <td>1</td>\n",
       "      <td>3</td>\n",
       "      <td>1</td>\n",
       "      <td>0</td>\n",
       "      <td>0</td>\n",
       "      <td>0</td>\n",
       "    </tr>\n",
       "    <tr>\n",
       "      <th>13</th>\n",
       "      <td>0</td>\n",
       "      <td>Travel_Rarely</td>\n",
       "      <td>25 - 34</td>\n",
       "      <td>Current Employees</td>\n",
       "      <td>R&amp;D</td>\n",
       "      <td>Medical</td>\n",
       "      <td>STAFF-18</td>\n",
       "      <td>18</td>\n",
       "      <td>Male</td>\n",
       "      <td>Laboratory Technician</td>\n",
       "      <td>...</td>\n",
       "      <td>3</td>\n",
       "      <td>3</td>\n",
       "      <td>80</td>\n",
       "      <td>1</td>\n",
       "      <td>3</td>\n",
       "      <td>3</td>\n",
       "      <td>2</td>\n",
       "      <td>2</td>\n",
       "      <td>1</td>\n",
       "      <td>2</td>\n",
       "    </tr>\n",
       "    <tr>\n",
       "      <th>17</th>\n",
       "      <td>0</td>\n",
       "      <td>Non-Travel</td>\n",
       "      <td>Under 25</td>\n",
       "      <td>Current Employees</td>\n",
       "      <td>R&amp;D</td>\n",
       "      <td>Medical</td>\n",
       "      <td>STAFF-22</td>\n",
       "      <td>22</td>\n",
       "      <td>Male</td>\n",
       "      <td>Laboratory Technician</td>\n",
       "      <td>...</td>\n",
       "      <td>3</td>\n",
       "      <td>2</td>\n",
       "      <td>80</td>\n",
       "      <td>2</td>\n",
       "      <td>1</td>\n",
       "      <td>2</td>\n",
       "      <td>1</td>\n",
       "      <td>0</td>\n",
       "      <td>0</td>\n",
       "      <td>0</td>\n",
       "    </tr>\n",
       "    <tr>\n",
       "      <th>...</th>\n",
       "      <td>...</td>\n",
       "      <td>...</td>\n",
       "      <td>...</td>\n",
       "      <td>...</td>\n",
       "      <td>...</td>\n",
       "      <td>...</td>\n",
       "      <td>...</td>\n",
       "      <td>...</td>\n",
       "      <td>...</td>\n",
       "      <td>...</td>\n",
       "      <td>...</td>\n",
       "      <td>...</td>\n",
       "      <td>...</td>\n",
       "      <td>...</td>\n",
       "      <td>...</td>\n",
       "      <td>...</td>\n",
       "      <td>...</td>\n",
       "      <td>...</td>\n",
       "      <td>...</td>\n",
       "      <td>...</td>\n",
       "      <td>...</td>\n",
       "    </tr>\n",
       "    <tr>\n",
       "      <th>1450</th>\n",
       "      <td>1</td>\n",
       "      <td>Travel_Rarely</td>\n",
       "      <td>25 - 34</td>\n",
       "      <td>Ex-Employees</td>\n",
       "      <td>R&amp;D</td>\n",
       "      <td>Medical</td>\n",
       "      <td>STAFF-1604</td>\n",
       "      <td>1604</td>\n",
       "      <td>Male</td>\n",
       "      <td>Laboratory Technician</td>\n",
       "      <td>...</td>\n",
       "      <td>3</td>\n",
       "      <td>3</td>\n",
       "      <td>80</td>\n",
       "      <td>3</td>\n",
       "      <td>1</td>\n",
       "      <td>3</td>\n",
       "      <td>1</td>\n",
       "      <td>1</td>\n",
       "      <td>0</td>\n",
       "      <td>0</td>\n",
       "    </tr>\n",
       "    <tr>\n",
       "      <th>1462</th>\n",
       "      <td>1</td>\n",
       "      <td>Non-Travel</td>\n",
       "      <td>35 - 44</td>\n",
       "      <td>Ex-Employees</td>\n",
       "      <td>R&amp;D</td>\n",
       "      <td>Life Sciences</td>\n",
       "      <td>STAFF-1458</td>\n",
       "      <td>1458</td>\n",
       "      <td>Female</td>\n",
       "      <td>Laboratory Technician</td>\n",
       "      <td>...</td>\n",
       "      <td>4</td>\n",
       "      <td>2</td>\n",
       "      <td>80</td>\n",
       "      <td>0</td>\n",
       "      <td>11</td>\n",
       "      <td>4</td>\n",
       "      <td>1</td>\n",
       "      <td>0</td>\n",
       "      <td>0</td>\n",
       "      <td>0</td>\n",
       "    </tr>\n",
       "    <tr>\n",
       "      <th>1464</th>\n",
       "      <td>1</td>\n",
       "      <td>Travel_Rarely</td>\n",
       "      <td>25 - 34</td>\n",
       "      <td>Ex-Employees</td>\n",
       "      <td>Sales</td>\n",
       "      <td>Life Sciences</td>\n",
       "      <td>STAFF-1758</td>\n",
       "      <td>1758</td>\n",
       "      <td>Female</td>\n",
       "      <td>Sales Executive</td>\n",
       "      <td>...</td>\n",
       "      <td>4</td>\n",
       "      <td>3</td>\n",
       "      <td>80</td>\n",
       "      <td>0</td>\n",
       "      <td>11</td>\n",
       "      <td>2</td>\n",
       "      <td>0</td>\n",
       "      <td>0</td>\n",
       "      <td>0</td>\n",
       "      <td>0</td>\n",
       "    </tr>\n",
       "    <tr>\n",
       "      <th>1466</th>\n",
       "      <td>1</td>\n",
       "      <td>Travel_Frequently</td>\n",
       "      <td>25 - 34</td>\n",
       "      <td>Ex-Employees</td>\n",
       "      <td>R&amp;D</td>\n",
       "      <td>Life Sciences</td>\n",
       "      <td>STAFF-1868</td>\n",
       "      <td>1868</td>\n",
       "      <td>Male</td>\n",
       "      <td>Research Scientist</td>\n",
       "      <td>...</td>\n",
       "      <td>4</td>\n",
       "      <td>2</td>\n",
       "      <td>80</td>\n",
       "      <td>0</td>\n",
       "      <td>1</td>\n",
       "      <td>2</td>\n",
       "      <td>1</td>\n",
       "      <td>0</td>\n",
       "      <td>1</td>\n",
       "      <td>0</td>\n",
       "    </tr>\n",
       "    <tr>\n",
       "      <th>1468</th>\n",
       "      <td>1</td>\n",
       "      <td>Travel_Rarely</td>\n",
       "      <td>Under 25</td>\n",
       "      <td>Ex-Employees</td>\n",
       "      <td>R&amp;D</td>\n",
       "      <td>Life Sciences</td>\n",
       "      <td>STAFF-1878</td>\n",
       "      <td>1878</td>\n",
       "      <td>Male</td>\n",
       "      <td>Research Scientist</td>\n",
       "      <td>...</td>\n",
       "      <td>4</td>\n",
       "      <td>1</td>\n",
       "      <td>80</td>\n",
       "      <td>0</td>\n",
       "      <td>1</td>\n",
       "      <td>3</td>\n",
       "      <td>1</td>\n",
       "      <td>0</td>\n",
       "      <td>0</td>\n",
       "      <td>0</td>\n",
       "    </tr>\n",
       "  </tbody>\n",
       "</table>\n",
       "<p>242 rows × 41 columns</p>\n",
       "</div>"
      ],
      "text/plain": [
       "      Attrition    Business Travel CF_age band CF_attrition label Department  \\\n",
       "2             1      Travel_Rarely     35 - 44       Ex-Employees        R&D   \n",
       "6             0      Travel_Rarely     Over 55  Current Employees        R&D   \n",
       "7             0      Travel_Rarely     25 - 34  Current Employees        R&D   \n",
       "13            0      Travel_Rarely     25 - 34  Current Employees        R&D   \n",
       "17            0         Non-Travel    Under 25  Current Employees        R&D   \n",
       "...         ...                ...         ...                ...        ...   \n",
       "1450          1      Travel_Rarely     25 - 34       Ex-Employees        R&D   \n",
       "1462          1         Non-Travel     35 - 44       Ex-Employees        R&D   \n",
       "1464          1      Travel_Rarely     25 - 34       Ex-Employees      Sales   \n",
       "1466          1  Travel_Frequently     25 - 34       Ex-Employees        R&D   \n",
       "1468          1      Travel_Rarely    Under 25       Ex-Employees        R&D   \n",
       "\n",
       "     Education Field      emp no  Employee Number  Gender  \\\n",
       "2              Other     STAFF-4                4    Male   \n",
       "6            Medical    STAFF-10               10  Female   \n",
       "7      Life Sciences    STAFF-11               11    Male   \n",
       "13           Medical    STAFF-18               18    Male   \n",
       "17           Medical    STAFF-22               22    Male   \n",
       "...              ...         ...              ...     ...   \n",
       "1450         Medical  STAFF-1604             1604    Male   \n",
       "1462   Life Sciences  STAFF-1458             1458  Female   \n",
       "1464   Life Sciences  STAFF-1758             1758  Female   \n",
       "1466   Life Sciences  STAFF-1868             1868    Male   \n",
       "1468   Life Sciences  STAFF-1878             1878    Male   \n",
       "\n",
       "                   Job Role  ... Performance Rating  \\\n",
       "2     Laboratory Technician  ...                  3   \n",
       "6     Laboratory Technician  ...                  4   \n",
       "7     Laboratory Technician  ...                  4   \n",
       "13    Laboratory Technician  ...                  3   \n",
       "17    Laboratory Technician  ...                  3   \n",
       "...                     ...  ...                ...   \n",
       "1450  Laboratory Technician  ...                  3   \n",
       "1462  Laboratory Technician  ...                  4   \n",
       "1464        Sales Executive  ...                  4   \n",
       "1466     Research Scientist  ...                  4   \n",
       "1468     Research Scientist  ...                  4   \n",
       "\n",
       "      Relationship Satisfaction Standard Hours  Stock Option Level  \\\n",
       "2                             2             80                   0   \n",
       "6                             1             80                   3   \n",
       "7                             2             80                   1   \n",
       "13                            3             80                   1   \n",
       "17                            2             80                   2   \n",
       "...                         ...            ...                 ...   \n",
       "1450                          3             80                   3   \n",
       "1462                          2             80                   0   \n",
       "1464                          3             80                   0   \n",
       "1466                          2             80                   0   \n",
       "1468                          1             80                   0   \n",
       "\n",
       "      Total Working Years  Work Life Balance  Years At Company  \\\n",
       "2                       7                  3                 0   \n",
       "6                      12                  2                 1   \n",
       "7                       1                  3                 1   \n",
       "13                      3                  3                 2   \n",
       "17                      1                  2                 1   \n",
       "...                   ...                ...               ...   \n",
       "1450                    1                  3                 1   \n",
       "1462                   11                  4                 1   \n",
       "1464                   11                  2                 0   \n",
       "1466                    1                  2                 1   \n",
       "1468                    1                  3                 1   \n",
       "\n",
       "      Years In Current Role  Years Since Last Promotion  \\\n",
       "2                         0                           0   \n",
       "6                         0                           0   \n",
       "7                         0                           0   \n",
       "13                        2                           1   \n",
       "17                        0                           0   \n",
       "...                     ...                         ...   \n",
       "1450                      1                           0   \n",
       "1462                      0                           0   \n",
       "1464                      0                           0   \n",
       "1466                      0                           1   \n",
       "1468                      0                           0   \n",
       "\n",
       "      Years With Curr Manager  \n",
       "2                           0  \n",
       "6                           0  \n",
       "7                           0  \n",
       "13                          2  \n",
       "17                          0  \n",
       "...                       ...  \n",
       "1450                        0  \n",
       "1462                        0  \n",
       "1464                        0  \n",
       "1466                        0  \n",
       "1468                        0  \n",
       "\n",
       "[242 rows x 41 columns]"
      ]
     },
     "execution_count": 420,
     "metadata": {},
     "output_type": "execute_result"
    }
   ],
   "source": [
    "fresh_emp[(fresh_emp['Years Since Last Promotion'] <=1) ]"
   ]
  },
  {
   "cell_type": "markdown",
   "id": "f47361c7",
   "metadata": {},
   "source": [
    "### <font color='darkblue'> 242 out of 342 employees (70%) who joined the company in the last 2 years got promoted.<br/> <br/>So we can say that company is also focusing on new employees's performance and if they are performing well they are also being promoted.\n",
    "</font>"
   ]
  },
  {
   "cell_type": "markdown",
   "id": "557900da",
   "metadata": {},
   "source": [
    "### 7.2 Does the number of years in the current role affect attrition rates?"
   ]
  },
  {
   "cell_type": "code",
   "execution_count": 371,
   "id": "4fbea018",
   "metadata": {},
   "outputs": [
    {
     "data": {
      "text/plain": [
       "<seaborn.axisgrid.FacetGrid at 0x7f803656cdf0>"
      ]
     },
     "execution_count": 371,
     "metadata": {},
     "output_type": "execute_result"
    },
    {
     "data": {
      "image/png": "[encoded data removed]",
      "text/plain": [
       "<Figure size 567.611x500 with 1 Axes>"
      ]
     },
     "metadata": {},
     "output_type": "display_data"
    }
   ],
   "source": [
    "sns.displot( x='Years In Current Role', data=df, hue='Attrition', multiple='stack')"
   ]
  },
  {
   "cell_type": "markdown",
   "id": "7de0bf5b",
   "metadata": {},
   "source": [
    "# 8. Departmental Analysis"
   ]
  },
  {
   "cell_type": "markdown",
   "id": "10f014a0",
   "metadata": {},
   "source": [
    "### 8.1 Is there a particular department with consistently high or low attrition rates? "
   ]
  },
  {
   "cell_type": "code",
   "execution_count": 425,
   "id": "de9cf5ba",
   "metadata": {},
   "outputs": [
    {
     "data": {
      "text/plain": [
       "R&D      133\n",
       "Sales     92\n",
       "HR        12\n",
       "Name: Department, dtype: int64"
      ]
     },
     "execution_count": 425,
     "metadata": {},
     "output_type": "execute_result"
    }
   ],
   "source": [
    "df_attrition_happend['Department'].value_counts()"
   ]
  },
  {
   "cell_type": "markdown",
   "id": "78250090",
   "metadata": {},
   "source": [
    "### <font color='darkblue'> Employees from R&D department are quitting jobs in large numbers (133) and HR Department is having least attrition rate.  \n",
    "</font>"
   ]
  },
  {
   "cell_type": "markdown",
   "id": "2812e46a",
   "metadata": {},
   "source": [
    "### 8.2 Are there any trends in the relationship between employee education level and department?\n"
   ]
  },
  {
   "cell_type": "code",
   "execution_count": 444,
   "id": "d71f0d9a",
   "metadata": {},
   "outputs": [],
   "source": [
    "rnd_df = df[df['Department']=='R&D']\n",
    "sales_df = df[df['Department']=='Sales']\n",
    "hr_df = df[df['Department']=='HR']"
   ]
  },
  {
   "cell_type": "code",
   "execution_count": 478,
   "id": "680bf5d5",
   "metadata": {},
   "outputs": [
    {
     "data": {
      "text/plain": [
       "<function matplotlib.pyplot.show(close=None, block=None)>"
      ]
     },
     "execution_count": 478,
     "metadata": {},
     "output_type": "execute_result"
    },
    {
     "data": {
      "image/png": "[encoded data removed]",
      "text/plain": [
       "<Figure size 1000x1000 with 3 Axes>"
      ]
     },
     "metadata": {},
     "output_type": "display_data"
    }
   ],
   "source": [
    "fig = plt.figure(figsize=(10,10))\n",
    "\n",
    "fig.add_subplot(2,3,1) #row,col,postion\n",
    "sales_df['Education Field'].value_counts().plot(kind='bar')\n",
    "plt.title('Sales Department ⬇️')\n",
    "\n",
    "fig.add_subplot(2,3,2) #row,col,postion\n",
    "hr_df['Education Field'].value_counts().plot(kind='bar')\n",
    "plt.title('HR Department ⬇️')\n",
    "\n",
    "fig.add_subplot(2,3,3) #row,col,postion\n",
    "rnd_df['Education Field'].value_counts().plot(kind='bar')\n",
    "plt.title('R&D Department ⬇️')\n",
    "plt.show"
   ]
  },
  {
   "cell_type": "markdown",
   "id": "4281d7f6",
   "metadata": {},
   "source": [
    "### <font color='darkblue'>Above all, the charts clearly show that most of the employees in each department are from relevant and related educational fields.\n",
    "</font>"
   ]
  },
  {
   "cell_type": "code",
   "execution_count": 477,
   "id": "50c17fcc",
   "metadata": {},
   "outputs": [
    {
     "data": {
      "text/plain": [
       "<function matplotlib.pyplot.show(close=None, block=None)>"
      ]
     },
     "execution_count": 477,
     "metadata": {},
     "output_type": "execute_result"
    },
    {
     "data": {
      "image/png": "[encoded data removed]",
      "text/plain": [
       "<Figure size 1000x1000 with 3 Axes>"
      ]
     },
     "metadata": {},
     "output_type": "display_data"
    }
   ],
   "source": [
    "fig = plt.figure(figsize=(10,10))\n",
    "\n",
    "fig.add_subplot(2,3,1) #row,col,postion\n",
    "sales_df['Education'].value_counts().plot(kind='bar')\n",
    "plt.title('Sales Department ⬇️')\n",
    "\n",
    "fig.add_subplot(2,3,2) #row,col,postion\n",
    "hr_df['Education'].value_counts().plot(kind='bar')\n",
    "plt.title('HR Department ⬇️')\n",
    "\n",
    "fig.add_subplot(2,3,3) #row,col,postion\n",
    "rnd_df['Education'].value_counts().plot(kind='bar')\n",
    "plt.title('R&D Department ⬇️')\n",
    "plt.show"
   ]
  },
  {
   "cell_type": "markdown",
   "id": "02281573",
   "metadata": {},
   "source": [
    "### <font color='darkblue'>And each department have most employees from bachelor's degree followed by master's degree\n",
    "</font>"
   ]
  },
  {
   "cell_type": "markdown",
   "id": "b8d894ff",
   "metadata": {},
   "source": [
    "# 9. Work Environment and Job Satisfaction"
   ]
  },
  {
   "cell_type": "markdown",
   "id": "ac8d33e0",
   "metadata": {},
   "source": [
    "### 9.1 How does the work environment satisfaction impact job satisfaction and, in turn, attrition?"
   ]
  },
  {
   "cell_type": "code",
   "execution_count": 494,
   "id": "b1f41d03",
   "metadata": {},
   "outputs": [
    {
     "name": "stdout",
     "output_type": "stream",
     "text": [
      "Total Environment Satisfaction \n"
     ]
    },
    {
     "data": {
      "text/plain": [
       "3    453\n",
       "4    446\n",
       "2    287\n",
       "1    284\n",
       "Name: Environment Satisfaction, dtype: int64"
      ]
     },
     "execution_count": 494,
     "metadata": {},
     "output_type": "execute_result"
    }
   ],
   "source": [
    "print('Total Environment Satisfaction ')\n",
    "df['Environment Satisfaction'].value_counts()"
   ]
  },
  {
   "cell_type": "code",
   "execution_count": 495,
   "id": "c8d4281d",
   "metadata": {},
   "outputs": [
    {
     "name": "stdout",
     "output_type": "stream",
     "text": [
      "Total Job Satisfaction \n"
     ]
    },
    {
     "data": {
      "text/plain": [
       "4    459\n",
       "3    442\n",
       "1    289\n",
       "2    280\n",
       "Name: Job Satisfaction, dtype: int64"
      ]
     },
     "execution_count": 495,
     "metadata": {},
     "output_type": "execute_result"
    }
   ],
   "source": [
    "print('Total Job Satisfaction ')\n",
    "df['Job Satisfaction'].value_counts()"
   ]
  },
  {
   "cell_type": "code",
   "execution_count": 498,
   "id": "1c7879c8",
   "metadata": {},
   "outputs": [
    {
     "name": "stdout",
     "output_type": "stream",
     "text": [
      "Environment Satisfaction of employees who have quit the company\n"
     ]
    },
    {
     "data": {
      "text/plain": [
       "1    72\n",
       "3    62\n",
       "4    60\n",
       "2    43\n",
       "Name: Environment Satisfaction, dtype: int64"
      ]
     },
     "execution_count": 498,
     "metadata": {},
     "output_type": "execute_result"
    }
   ],
   "source": [
    "print('Environment Satisfaction of employees who have quit the company')\n",
    "df_attrition_happend['Environment Satisfaction'].value_counts()"
   ]
  },
  {
   "cell_type": "code",
   "execution_count": 497,
   "id": "35bac9ca",
   "metadata": {},
   "outputs": [
    {
     "name": "stdout",
     "output_type": "stream",
     "text": [
      "Job Satisfaction of employees who have quit the company\n"
     ]
    },
    {
     "data": {
      "text/plain": [
       "3    73\n",
       "1    66\n",
       "4    52\n",
       "2    46\n",
       "Name: Job Satisfaction, dtype: int64"
      ]
     },
     "execution_count": 497,
     "metadata": {},
     "output_type": "execute_result"
    }
   ],
   "source": [
    "print('Job Satisfaction of employees who have quit the company')\n",
    "df_attrition_happend['Job Satisfaction'].value_counts()"
   ]
  },
  {
   "cell_type": "code",
   "execution_count": 487,
   "id": "a73ae945",
   "metadata": {},
   "outputs": [],
   "source": [
    "Env_job_ins = df_attrition_happend[(df_attrition_happend['Job Satisfaction'] <=2) & (df_attrition_happend['Environment Satisfaction'] <=2) ]"
   ]
  },
  {
   "cell_type": "code",
   "execution_count": 489,
   "id": "5be2502e",
   "metadata": {},
   "outputs": [
    {
     "data": {
      "text/plain": [
       "58"
      ]
     },
     "execution_count": 489,
     "metadata": {},
     "output_type": "execute_result"
    }
   ],
   "source": [
    "Env_job_ins.shape[0]"
   ]
  },
  {
   "cell_type": "markdown",
   "id": "98c86c21",
   "metadata": {},
   "source": [
    "### <font color='darkblue'> As we can see, employees of the company have job and environment satisfaction of 3 and 4 points <br/> <br/> but when we dive deeper and see that employees who have quit the company have environment satisfaction of 1, we have 72 in total, and with job satisfaction of 1 point, we have 66 employees.\n",
    "</font>\n",
    "\n",
    "### <font color='darkblue'> and out of 237 employees who have quit the company, there are 58 who had both job and environment satisfaction below or equal to 2 points\n",
    "</font>\n",
    "\n",
    "\n"
   ]
  },
  {
   "cell_type": "markdown",
   "id": "4221ac92",
   "metadata": {},
   "source": [
    "\n"
   ]
  },
  {
   "cell_type": "markdown",
   "id": "f57bea44",
   "metadata": {},
   "source": [
    "### 9.2 Is there any relationship between job involvement and attrition?"
   ]
  },
  {
   "cell_type": "code",
   "execution_count": 501,
   "id": "c41ed1b2",
   "metadata": {},
   "outputs": [
    {
     "name": "stdout",
     "output_type": "stream",
     "text": [
      "Job Involvement of employees\n"
     ]
    },
    {
     "data": {
      "text/plain": [
       "3    868\n",
       "2    375\n",
       "4    144\n",
       "1     83\n",
       "Name: Job Involvement, dtype: int64"
      ]
     },
     "execution_count": 501,
     "metadata": {},
     "output_type": "execute_result"
    }
   ],
   "source": [
    "print('Job Involvement of employees')\n",
    "df['Job Involvement'].value_counts()"
   ]
  },
  {
   "cell_type": "code",
   "execution_count": 502,
   "id": "3daf9820",
   "metadata": {},
   "outputs": [
    {
     "name": "stdout",
     "output_type": "stream",
     "text": [
      "Job Involvement of employees who have quit the company\n"
     ]
    },
    {
     "data": {
      "text/plain": [
       "3    125\n",
       "2     71\n",
       "1     28\n",
       "4     13\n",
       "Name: Job Involvement, dtype: int64"
      ]
     },
     "execution_count": 502,
     "metadata": {},
     "output_type": "execute_result"
    }
   ],
   "source": [
    "print('Job Involvement of employees who have quit the company')\n",
    "df_attrition_happend['Job Involvement'].value_counts()"
   ]
  },
  {
   "cell_type": "code",
   "execution_count": 514,
   "id": "60a45f97",
   "metadata": {},
   "outputs": [
    {
     "name": "stdout",
     "output_type": "stream",
     "text": [
      "Job Involvment of 4 and % of employees who have quit their jobs : 9.027777777777777 %\n",
      "Job Involvment of 3 and % of employees who have quit their jobs : 14.400921658986174 %\n",
      "Job Involvment of 2 and % of employees who have quit their jobs : 18.933333333333334 %\n",
      "Job Involvment of 1 and % of employees who have quit their jobs : 33.734939759036145 %\n"
     ]
    }
   ],
   "source": [
    "print(f'Job Involvment of 4 and % of employees who have quit their jobs : {(13/144)*100} %')\n",
    "print(f'Job Involvment of 3 and % of employees who have quit their jobs : {(125/868)*100} %')\n",
    "print(f'Job Involvment of 2 and % of employees who have quit their jobs : {(71/375)*100} %')\n",
    "print(f'Job Involvment of 1 and % of employees who have quit their jobs : {(28/83)*100} %')"
   ]
  },
  {
   "cell_type": "markdown",
   "id": "9666c155",
   "metadata": {},
   "source": [
    "### <font color='darkblue'>From the above insights, we can say that employees with a lower job involvement point (below 3) are more likely to quit their jobs, around 52% of employees who have quit their jobs have given less than 3 points in job involvement.\n",
    ".\n",
    "</font>\n"
   ]
  },
  {
   "cell_type": "markdown",
   "id": "0c4579fd",
   "metadata": {},
   "source": [
    "# 10. Performance vs. Education:"
   ]
  },
  {
   "cell_type": "markdown",
   "id": "90abe670",
   "metadata": {},
   "source": [
    "### 10.1 Do employees with higher levels of education perform better or have higher job satisfaction"
   ]
  },
  {
   "cell_type": "code",
   "execution_count": 529,
   "id": "292b1119",
   "metadata": {},
   "outputs": [
    {
     "name": "stdout",
     "output_type": "stream",
     "text": [
      "4    130\n",
      "3    127\n",
      "1     74\n",
      "2     67\n",
      "Name: Job Satisfaction, dtype: int64\n"
     ]
    },
    {
     "data": {
      "text/plain": [
       "<AxesSubplot:>"
      ]
     },
     "execution_count": 529,
     "metadata": {},
     "output_type": "execute_result"
    },
    {
     "data": {
      "image/png": "[encoded data removed]",
      "text/plain": [
       "<Figure size 640x480 with 1 Axes>"
      ]
     },
     "metadata": {},
     "output_type": "display_data"
    }
   ],
   "source": [
    "high_ed_emp = df[(df['Education'] == \"Master's Degree\") | (df['Education'] == \"Doctoral Degree Degree\")]\n",
    "print(high_ed_emp['Job Satisfaction'].value_counts())\n",
    "high_ed_emp['Job Satisfaction'].value_counts().plot(kind='bar')"
   ]
  },
  {
   "cell_type": "markdown",
   "id": "73290411",
   "metadata": {},
   "source": [
    "### <font color='darkblue'>Yes, we can clearly see that employees with higher education degrees are really satisfied with their job and have given a great satisfaction point (3 or 4).\n",
    "</font>"
   ]
  },
  {
   "cell_type": "markdown",
   "id": "db551109",
   "metadata": {},
   "source": [
    "### 10.2 How does the education level affect the number of companies an employee has worked for?"
   ]
  },
  {
   "cell_type": "code",
   "execution_count": 533,
   "id": "315103ec",
   "metadata": {},
   "outputs": [
    {
     "data": {
      "text/plain": [
       "Bachelor's Degree    572\n",
       "Master's Degree      398\n",
       "Associates Degree    282\n",
       "High School          170\n",
       "Doctoral Degree       48\n",
       "Name: Education, dtype: int64"
      ]
     },
     "execution_count": 533,
     "metadata": {},
     "output_type": "execute_result"
    }
   ],
   "source": [
    "df['Education'].value_counts()"
   ]
  },
  {
   "cell_type": "code",
   "execution_count": 539,
   "id": "b882ea7c",
   "metadata": {},
   "outputs": [],
   "source": [
    "ed_bd = df[df['Education']==\"Bachelor's Degree\"]\n",
    "ed_ms = df[df['Education']==\"Master's Degree\"]\n",
    "ed_as = df[df['Education']==\"Associates Degree\"]\n",
    "ed_hs = df[df['Education']==\"High School\"]\n",
    "ed_dd = df[df['Education']==\"Doctoral Degree\"]\n"
   ]
  },
  {
   "cell_type": "code",
   "execution_count": 535,
   "id": "df0f414e",
   "metadata": {},
   "outputs": [
    {
     "data": {
      "text/plain": [
       "1    202\n",
       "4     73\n",
       "0     71\n",
       "2     60\n",
       "3     50\n",
       "5     31\n",
       "6     25\n",
       "7     23\n",
       "8     20\n",
       "9     17\n",
       "Name: Num Companies Worked, dtype: int64"
      ]
     },
     "execution_count": 535,
     "metadata": {},
     "output_type": "execute_result"
    }
   ],
   "source": [
    "ed_bd['Num Companies Worked'].value_counts()"
   ]
  },
  {
   "cell_type": "code",
   "execution_count": 536,
   "id": "ec786f8b",
   "metadata": {},
   "outputs": [
    {
     "data": {
      "text/plain": [
       "1    115\n",
       "3     51\n",
       "0     49\n",
       "2     46\n",
       "4     37\n",
       "6     28\n",
       "9     24\n",
       "7     22\n",
       "8     17\n",
       "5      9\n",
       "Name: Num Companies Worked, dtype: int64"
      ]
     },
     "execution_count": 536,
     "metadata": {},
     "output_type": "execute_result"
    }
   ],
   "source": [
    "ed_ms['Num Companies Worked'].value_counts()"
   ]
  },
  {
   "cell_type": "code",
   "execution_count": 537,
   "id": "8fc6087b",
   "metadata": {},
   "outputs": [
    {
     "data": {
      "text/plain": [
       "1    106\n",
       "0     38\n",
       "3     33\n",
       "2     28\n",
       "4     19\n",
       "7     15\n",
       "6     13\n",
       "5     13\n",
       "8      9\n",
       "9      8\n",
       "Name: Num Companies Worked, dtype: int64"
      ]
     },
     "execution_count": 537,
     "metadata": {},
     "output_type": "execute_result"
    }
   ],
   "source": [
    "ed_as['Num Companies Worked'].value_counts()"
   ]
  },
  {
   "cell_type": "code",
   "execution_count": 540,
   "id": "bffa4a40",
   "metadata": {},
   "outputs": [
    {
     "data": {
      "text/plain": [
       "1    88\n",
       "0    33\n",
       "3    16\n",
       "7    10\n",
       "5     6\n",
       "2     5\n",
       "4     4\n",
       "8     3\n",
       "6     3\n",
       "9     2\n",
       "Name: Num Companies Worked, dtype: int64"
      ]
     },
     "execution_count": 540,
     "metadata": {},
     "output_type": "execute_result"
    }
   ],
   "source": [
    "ed_hs['Num Companies Worked'].value_counts()"
   ]
  },
  {
   "cell_type": "code",
   "execution_count": 541,
   "id": "112c68f2",
   "metadata": {},
   "outputs": [
    {
     "data": {
      "text/plain": [
       "1    10\n",
       "3     9\n",
       "2     7\n",
       "4     6\n",
       "0     6\n",
       "5     4\n",
       "7     4\n",
       "9     1\n",
       "6     1\n",
       "Name: Num Companies Worked, dtype: int64"
      ]
     },
     "execution_count": 541,
     "metadata": {},
     "output_type": "execute_result"
    }
   ],
   "source": [
    "ed_dd['Num Companies Worked'].value_counts()"
   ]
  },
  {
   "cell_type": "code",
   "execution_count": 544,
   "id": "003906c6",
   "metadata": {},
   "outputs": [
    {
     "data": {
      "text/plain": [
       "<AxesSubplot:xlabel='Education', ylabel='Num Companies Worked'>"
      ]
     },
     "execution_count": 544,
     "metadata": {},
     "output_type": "execute_result"
    },
    {
     "data": {
      "image/png": "[encoded data removed]",
      "text/plain": [
       "<Figure size 1000x1000 with 1 Axes>"
      ]
     },
     "metadata": {},
     "output_type": "display_data"
    }
   ],
   "source": [
    "fig = plt.figure(figsize=(10,10))\n",
    "sns.boxplot(x='Education', y='Num Companies Worked', data=df)"
   ]
  },
  {
   "cell_type": "code",
   "execution_count": 545,
   "id": "2c48a880",
   "metadata": {},
   "outputs": [
    {
     "data": {
      "text/plain": [
       "Education\n",
       "Associates Degree    2.585106\n",
       "Bachelor's Degree    2.697552\n",
       "Doctoral Degree      2.875000\n",
       "High School          1.894118\n",
       "Master's Degree      3.082915\n",
       "Name: Num Companies Worked, dtype: float64"
      ]
     },
     "execution_count": 545,
     "metadata": {},
     "output_type": "execute_result"
    }
   ],
   "source": [
    "avg_companies_by_education = df.groupby('Education')['Num Companies Worked'].mean()\n",
    "avg_companies_by_education"
   ]
  },
  {
   "cell_type": "markdown",
   "id": "3f50d546",
   "metadata": {},
   "source": [
    "### <font color='darkblue'>As per the above observations, we can say that employees with lower education, like those in high school with the most obvious small roles, are sticking to the company most as they do not have any expertise and lack ambition, whereas on the other side, master's degree & bachelor's Degree employees are switching the company more frequently because they have access to a better job portal and connections, plus once they gain expertise in a field, they try to learn new things. \n",
    "\n",
    "</font>"
   ]
  },
  {
   "cell_type": "code",
   "execution_count": null,
   "id": "50c6d2ae",
   "metadata": {},
   "outputs": [],
   "source": []
  }
 ],
 "metadata": {
  "kernelspec": {
   "display_name": "Python 3 (ipykernel)",
   "language": "python",
   "name": "python3"
  },
  "language_info": {
   "codemirror_mode": {
    "name": "ipython",
    "version": 3
   },
   "file_extension": ".py",
   "mimetype": "text/x-python",
   "name": "python",
   "nbconvert_exporter": "python",
   "pygments_lexer": "ipython3",
   "version": "3.11.5"
  }
 },
 "nbformat": 4,
 "nbformat_minor": 5
}
